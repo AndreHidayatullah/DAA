{
  "nbformat": 4,
  "nbformat_minor": 0,
  "metadata": {
    "colab": {
      "provenance": [],
      "authorship_tag": "ABX9TyNnXuNjK5dZ+pQ4VXdu+hQ0",
      "include_colab_link": true
    },
    "kernelspec": {
      "name": "python3",
      "display_name": "Python 3"
    },
    "language_info": {
      "name": "python"
    }
  },
  "cells": [
    {
      "cell_type": "markdown",
      "metadata": {
        "id": "view-in-github",
        "colab_type": "text"
      },
      "source": [
        "<a href=\"https://colab.research.google.com/github/AndreHidayatullah/DAA/blob/main/DAA7.ipynb\" target=\"_parent\"><img src=\"https://colab.research.google.com/assets/colab-badge.svg\" alt=\"Open In Colab\"/></a>"
      ]
    },
    {
      "cell_type": "code",
      "execution_count": 5,
      "metadata": {
        "colab": {
          "base_uri": "https://localhost:8080/"
        },
        "id": "LvH_tPjsl8Zq",
        "outputId": "3d3f4915-9a7f-4afa-d728-5cb36a7b56c3"
      },
      "outputs": [
        {
          "output_type": "stream",
          "name": "stdout",
          "text": [
            "Angka rahasianya adalah: 78\n"
          ]
        }
      ],
      "source": [
        "def tebak_angka(angka_rahasia):\n",
        "  for tebakan in range(1, 101):\n",
        "    if tebakan == angka_rahasia:\n",
        "      print(\"Angka rahasianya adalah:\", tebakan)\n",
        "      break\n",
        "\n",
        "# Contoh penggunaan\n",
        "angka_rahasia = 78\n",
        "tebak_angka(angka_rahasia)"
      ]
    },
    {
      "cell_type": "code",
      "source": [
        "mat1 = [\n",
        "    [7, 0],\n",
        "    [4, 6],\n",
        "]\n",
        "\n",
        "mat2 = [\n",
        "    [3, 0],\n",
        "    [5, 2],\n",
        "]\n",
        "\n",
        "\n",
        "mat3 = []\n",
        "\n",
        "for x in range(0, len(mat1)):\n",
        "  row = []\n",
        "  for y in range(0, len(mat1[0])):\n",
        "    total = 0\n",
        "    for z in range(0, len(mat1)):\n",
        "      total = total + (mat1[x][z]*mat2[z][y])\n",
        "    row.append(total)\n",
        "  mat3.append(row)\n",
        "\n",
        "for x in range(0, len(mat3)):\n",
        "  for y in range(0, len(mat3[0])):\n",
        "    print (mat3[x][y], end=' ')\n",
        "    print()"
      ],
      "metadata": {
        "colab": {
          "base_uri": "https://localhost:8080/"
        },
        "id": "OKl1A-F7mwq0",
        "outputId": "7fd19727-e34d-40a1-b1bb-08a066f08a5e"
      },
      "execution_count": 6,
      "outputs": [
        {
          "output_type": "stream",
          "name": "stdout",
          "text": [
            "21 \n",
            "0 \n",
            "42 \n",
            "12 \n"
          ]
        }
      ]
    },
    {
      "cell_type": "code",
      "source": [
        "def faktorial(n):\n",
        "  if (n==1):\n",
        "    return n\n",
        "  return faktorial(n-1)*n\n",
        "\n",
        "n = int(input(\"Masukan nilai n: \"))  #input nilai\n",
        "print(f\"Hasil dari {n}!\", faktorial(n))  #output nilai"
      ],
      "metadata": {
        "colab": {
          "base_uri": "https://localhost:8080/"
        },
        "id": "JkxEvyGRoC-V",
        "outputId": "fbed1109-95db-4d88-ec9b-5eae7f0c0684"
      },
      "execution_count": 7,
      "outputs": [
        {
          "output_type": "stream",
          "name": "stdout",
          "text": [
            "Masukan nilai n: 4\n",
            "Hasil dari 4! 24\n"
          ]
        }
      ]
    },
    {
      "cell_type": "code",
      "source": [
        "def nilai_maksimal(deret_bilangan):\n",
        "  nilai_terbesar = deret_bilangan[0]\n",
        "\n",
        "  for nilai in deret_bilangan:\n",
        "    if nilai > nilai_terbesar:\n",
        "      nilai_terbesar = nilai\n",
        "\n",
        "  return nilai_terbesar"
      ],
      "metadata": {
        "id": "t8W541ltokDY"
      },
      "execution_count": 8,
      "outputs": []
    },
    {
      "cell_type": "code",
      "source": [
        "a = [3, 20, 100, -35, 50]\n",
        "\n",
        "print(a)\n",
        "print('Nilai terbesar:', nilai_maksimal(a))"
      ],
      "metadata": {
        "colab": {
          "base_uri": "https://localhost:8080/"
        },
        "id": "r4Mm_nr6o97U",
        "outputId": "e914a08f-5e5f-44c3-f043-4c1ea4707ea8"
      },
      "execution_count": 9,
      "outputs": [
        {
          "output_type": "stream",
          "name": "stdout",
          "text": [
            "[3, 20, 100, -35, 50]\n",
            "Nilai terbesar: 100\n"
          ]
        }
      ]
    },
    {
      "cell_type": "code",
      "source": [
        "def sequentialSearch(alist, item):\n",
        "  pos = 0\n",
        "  found = False\n",
        "\n",
        "  while pos < len(alist) and not found:\n",
        "    if alist[pos]  == item:\n",
        "      found = True\n",
        "    else:\n",
        "      pos = pos+1\n",
        "  return found\n",
        "\n",
        "testlist = [1, 2, 32, 8, 17, 19, 42, 13, 0]\n",
        "print(sequentialSearch(testlist, 3))\n",
        "print(sequentialSearch(testlist, 2))"
      ],
      "metadata": {
        "colab": {
          "base_uri": "https://localhost:8080/"
        },
        "id": "5fU7mCY2pLU8",
        "outputId": "22608e3a-6192-4c45-afdb-08525409acfa"
      },
      "execution_count": 10,
      "outputs": [
        {
          "output_type": "stream",
          "name": "stdout",
          "text": [
            "False\n",
            "True\n"
          ]
        }
      ]
    },
    {
      "cell_type": "code",
      "source": [
        "def bubbleSort(alist):\n",
        "  for passnum in range(len(alist)-1, 0, -1):\n",
        "    for i in range(passnum):\n",
        "      if alist[i]>alist[i+1]:\n",
        "        temp = alist[i]\n",
        "        alist[i] = alist[i+1]\n",
        "        alist[i+1] = temp\n",
        "\n",
        "alist = [54, 26, 93, 17, 77, 31, 44, 55, 20]\n",
        "bubbleSort(alist)\n",
        "print(alist)"
      ],
      "metadata": {
        "colab": {
          "base_uri": "https://localhost:8080/"
        },
        "id": "jJNfFm-SqC70",
        "outputId": "62d8a06a-7b5c-480c-8dc0-5c133034e6cf"
      },
      "execution_count": 11,
      "outputs": [
        {
          "output_type": "stream",
          "name": "stdout",
          "text": [
            "[17, 20, 26, 31, 44, 54, 55, 77, 93]\n"
          ]
        }
      ]
    },
    {
      "cell_type": "code",
      "source": [
        "#Uji Keprimaan\n",
        "x = int(input('Input satu angka bulat: '))\n",
        "\n",
        "angka_prima = True\n",
        "if(( x == 0) or (x == 1)):\n",
        "  angka_prima = False\n",
        "else:\n",
        "  for i in range(2, (x//2)):\n",
        "    if ((x % i) == 0):\n",
        "      angka_prima = False\n",
        "      break\n",
        "\n",
        "if(angka_prima):\n",
        "  print(x, 'adalah angka prima')\n",
        "else:\n",
        "  print(x, 'bukan angka prima')"
      ],
      "metadata": {
        "colab": {
          "base_uri": "https://localhost:8080/"
        },
        "id": "B_08zx0arge_",
        "outputId": "739d9c12-240c-4857-ef46-06cb6b33abac"
      },
      "execution_count": 12,
      "outputs": [
        {
          "output_type": "stream",
          "name": "stdout",
          "text": [
            "Input satu angka bulat: 7\n",
            "7 adalah angka prima\n"
          ]
        }
      ]
    },
    {
      "cell_type": "code",
      "source": [
        "def polynomial_py(a, x):\n",
        "  result = 0\n",
        "  # for every n in 0..len(a)-1\n",
        "  for n, a_n in enumerate(a):\n",
        "    # compute x^n\n",
        "    x_power_n =1\n",
        "    for i in range(n):\n",
        "      x_power_n *= x\n",
        "    #add a_n* x^n to the final result\n",
        "    result += a_n * x_power_n\n",
        "  return result"
      ],
      "metadata": {
        "id": "mGb1fBCSsVYM"
      },
      "execution_count": 13,
      "outputs": []
    },
    {
      "cell_type": "code",
      "source": [
        "a = [1, 2, 0, 3] # coefficients\n",
        "x = 1.5\n",
        "print(polynomial_py(a, x)) # 14.125"
      ],
      "metadata": {
        "colab": {
          "base_uri": "https://localhost:8080/"
        },
        "id": "cQELCGxGtKSr",
        "outputId": "15f12d62-17d8-4092-8cf6-07a2a635694d"
      },
      "execution_count": 14,
      "outputs": [
        {
          "output_type": "stream",
          "name": "stdout",
          "text": [
            "14.125\n"
          ]
        }
      ]
    },
    {
      "cell_type": "code",
      "source": [
        "# Get amtching substrings in string\n",
        "# initializing string\n",
        "test_str = \"GFG is good website\";\n",
        "\n",
        "# initializing potential substrings\n",
        "test_list = [\"GFG\", \"site\", \"CS\", \"Geeks\", \"Tutorial\"]\n",
        "\n",
        "# printing original string\n",
        "print(\"The original string is : \" + test_str)\n",
        "\n",
        "# printing potential strings list\n",
        "print(\"The original list is : \" + str(test_list))\n",
        "\n",
        "# using list comprehension\n",
        "# Get matching substrings in string\n",
        "res = [sub for sub in test_list if sub in test_str]\n",
        "\n",
        "# printing result\n",
        "print(\"The list of found substrings : \" + str(res))"
      ],
      "metadata": {
        "colab": {
          "base_uri": "https://localhost:8080/"
        },
        "id": "2jLoCodCte3s",
        "outputId": "095a7cad-8da1-4fb5-c179-a630b9cef252"
      },
      "execution_count": 15,
      "outputs": [
        {
          "output_type": "stream",
          "name": "stdout",
          "text": [
            "The original string is : GFG is good website\n",
            "The original list is : ['GFG', 'site', 'CS', 'Geeks', 'Tutorial']\n",
            "The list of found substrings : ['GFG', 'site']\n"
          ]
        }
      ]
    },
    {
      "cell_type": "code",
      "source": [
        "from math import sqrt\n",
        "from random import randint\n",
        "titik = []\n",
        "n = int(input('Masukkan jumlah titik yang ingin Anda cari jaraknya: '))\n",
        "for i in range (0, n):\n",
        "  titik.append([randint(0, 100), randint(0, 100)])\n",
        "print('Titik:\\n', titik)\n",
        "def hitungjarak(lis):\n",
        "    lisjarak = []\n",
        "    for j in range (0, len(lis)-1):\n",
        "      jarak = sqrt((lis[i][0]-lis[j][0])**2 + (lis[i][1]-lis[j][1])**2)\n",
        "      lisjarak.append(jarak)\n",
        "      print('Titik: ', lis[i], 'Titik: ', lis[j], ': ', jarak)\n",
        "    return min(lisjarak)\n",
        "print('Jarak terdekat:\\n', hitungjarak(titik))"
      ],
      "metadata": {
        "colab": {
          "base_uri": "https://localhost:8080/"
        },
        "id": "nR-KODqxxdin",
        "outputId": "e4992493-5a65-4534-deb6-e596436e5302"
      },
      "execution_count": 16,
      "outputs": [
        {
          "output_type": "stream",
          "name": "stdout",
          "text": [
            "Masukkan jumlah titik yang ingin Anda cari jaraknya: 3\n",
            "Titik:\n",
            " [[82, 11], [19, 99], [8, 21]]\n",
            "Titik:  [8, 21] Titik:  [82, 11] :  74.67261881037788\n",
            "Titik:  [8, 21] Titik:  [19, 99] :  78.77182237323191\n",
            "Jarak terdekat:\n",
            " 74.67261881037788\n"
          ]
        }
      ]
    },
    {
      "cell_type": "code",
      "source": [
        "# Find Maximum Value in Linear Search\n",
        "def find_maximum(lst):\n",
        "  max = None\n",
        "  for el in lst:\n",
        "    if max == None or el > max:\n",
        "      max = el\n",
        "  return max\n",
        "test_scores = [88, 93, 75, 100, 80, 67, 71, 92, 90, 83]\n",
        "print(find_maximum(test_scores)) # returns 100"
      ],
      "metadata": {
        "colab": {
          "base_uri": "https://localhost:8080/"
        },
        "id": "TOTkA8t3y-Al",
        "outputId": "912d19a9-0e7a-4bd2-c2a8-d7725ff7aa9e"
      },
      "execution_count": 17,
      "outputs": [
        {
          "output_type": "stream",
          "name": "stdout",
          "text": [
            "100\n"
          ]
        }
      ]
    },
    {
      "cell_type": "code",
      "source": [
        "def bubbleSort(alist):\n",
        "  for passnum in range(len(alist)-1, 0, -1):\n",
        "    for i in range(passnum):\n",
        "      if alist[i]>alist[i+1]:\n",
        "        temp = alist[i]\n",
        "        alist[i] = alist[i+1]\n",
        "        alist[i+1] = temp\n",
        "\n",
        "alist = [54, 26, 93, 17, 77, 31, 44, 55, 20]\n",
        "bubbleSort(alist)\n",
        "print(alist)"
      ],
      "metadata": {
        "colab": {
          "base_uri": "https://localhost:8080/"
        },
        "id": "V6sRCMixz7_r",
        "outputId": "68734cf0-1a40-4620-eee5-e0b6f9e0ab54"
      },
      "execution_count": 18,
      "outputs": [
        {
          "output_type": "stream",
          "name": "stdout",
          "text": [
            "[17, 20, 26, 31, 44, 54, 55, 77, 93]\n"
          ]
        }
      ]
    },
    {
      "cell_type": "code",
      "source": [
        "def sequential__Search(dlist, item):\n",
        "\n",
        "  pos = 0\n",
        "  found = False\n",
        "\n",
        "  while pos < len(dlist) and not found:\n",
        "    if dlist[pos] == item:\n",
        "      found = True\n",
        "    else:\n",
        "      pos = pos + 1\n",
        "\n",
        "  return found, pos"
      ],
      "metadata": {
        "id": "bN8OGeNu1Ois"
      },
      "execution_count": 19,
      "outputs": []
    },
    {
      "cell_type": "code",
      "source": [
        "print(sequential__Search([11, 23, 58, 31, 56, 77, 43, 12, 65, 19], 31))"
      ],
      "metadata": {
        "colab": {
          "base_uri": "https://localhost:8080/"
        },
        "id": "dGqkGZHi1oBJ",
        "outputId": "ff393d21-74e6-48b7-f48a-80fb64128d5f"
      },
      "execution_count": 20,
      "outputs": [
        {
          "output_type": "stream",
          "name": "stdout",
          "text": [
            "(True, 3)\n"
          ]
        }
      ]
    },
    {
      "cell_type": "code",
      "source": [
        "def sequential_Search(dlist, item):\n",
        "    pos = 0\n",
        "    found = False\n",
        "\n",
        "    while pos < len(dlist) and not found:\n",
        "        if dlist[pos] == item:\n",
        "            found = True\n",
        "        else:\n",
        "            pos = pos + 1\n",
        "\n",
        "    return found, pos\n",
        "\n",
        "# Deret huruf dari a sampai h\n",
        "huruf = ['a', 'b', 'c', 'd', 'e', 'f', 'g', 'h']\n",
        "\n",
        "# Cari string 'g'\n",
        "hasil = sequential_Search(huruf, 'g')\n",
        "\n",
        "print(hasil)"
      ],
      "metadata": {
        "colab": {
          "base_uri": "https://localhost:8080/"
        },
        "id": "fWGeSHDwIl6p",
        "outputId": "0d84ec5a-7912-4f4c-d924-0a781a736a05"
      },
      "execution_count": 1,
      "outputs": [
        {
          "output_type": "stream",
          "name": "stdout",
          "text": [
            "(True, 6)\n"
          ]
        }
      ]
    },
    {
      "cell_type": "code",
      "source": [
        "bilangan = int(input('Masukkan bilangan: '))\n",
        "pangkat = int(input('Masukkan pangkat: '))\n",
        "\n",
        "def hitung_pangkat(bilangan, pangkat):\n",
        "  if pangkat > 1:\n",
        "    return bilangan * hitung_pangkat(bilangan, pangkat - 1)\n",
        "\n",
        "  return bilangan\n",
        "\n",
        "hasil = hitung_pangkat(bilangan, pangkat)\n",
        "print(f'Hasil = {hasil}')"
      ],
      "metadata": {
        "colab": {
          "base_uri": "https://localhost:8080/"
        },
        "id": "iWzHNWFpIn9G",
        "outputId": "03e951c7-db9c-433d-87d3-bfa99c4c4bc0"
      },
      "execution_count": 21,
      "outputs": [
        {
          "output_type": "stream",
          "name": "stdout",
          "text": [
            "Masukkan bilangan: 4\n",
            "Masukkan pangkat: 6\n",
            "Hasil = 4096\n"
          ]
        }
      ]
    },
    {
      "cell_type": "code",
      "source": [
        "n = int(input('Masukkan nilai n: '))\n",
        "\n",
        "def hitung_faktorial (n):\n",
        "  if n > 2:\n",
        "    return n * hitung_faktorial(n - 1)\n",
        "\n",
        "  return 2\n",
        "\n",
        "faktorial = hitung_faktorial(n)\n",
        "print(f'{n}! = {faktorial}')"
      ],
      "metadata": {
        "colab": {
          "base_uri": "https://localhost:8080/"
        },
        "id": "-6YdGi8dJWX9",
        "outputId": "5ea1a4cc-e710-4937-d8f3-9e28c8c4b235"
      },
      "execution_count": 22,
      "outputs": [
        {
          "output_type": "stream",
          "name": "stdout",
          "text": [
            "Masukkan nilai n: 5\n",
            "5! = 120\n"
          ]
        }
      ]
    },
    {
      "cell_type": "code",
      "source": [
        "def string_match(string, sub_str):\n",
        "  # Brute force string matching\n",
        "  for i in range(len(string) - len(sub_str)+ 1):\n",
        "    index = i # index point to the 1 three character to be compared\n",
        "    for j in range(len(sub_str)):\n",
        "      if string[index] == sub_str[j]:\n",
        "        index += 1\n",
        "      else:\n",
        "        break\n",
        "      if index - i == len(sub_str):\n",
        "        return i\n",
        "  return -1\n",
        "\n",
        "if __name__ == \"__main__\":\n",
        "      print(string_match(\"adbcbdc\", \"bdc\"))"
      ],
      "metadata": {
        "colab": {
          "base_uri": "https://localhost:8080/"
        },
        "id": "ff4bktbOKTOe",
        "outputId": "0af3629a-9874-449c-eea5-b4f8e3861b3c"
      },
      "execution_count": 23,
      "outputs": [
        {
          "output_type": "stream",
          "name": "stdout",
          "text": [
            "4\n"
          ]
        }
      ]
    },
    {
      "cell_type": "code",
      "source": [
        "def string_match(string, sub_str):\n",
        "    # Brute force string matching\n",
        "    for i in range(len(string) - len(sub_str) + 1):\n",
        "        index = i  # index menunjuk ke karakter pertama yang akan dibandingkan\n",
        "        for j in range(len(sub_str)):\n",
        "            if string[index] == sub_str[j]:\n",
        "                index += 1\n",
        "            else:\n",
        "                break\n",
        "            if index - i == len(sub_str):\n",
        "                return i\n",
        "    return -1\n",
        "\n",
        "\n",
        "if __name__ == \"__main__\":\n",
        "    # Diketahui string terdiri dari angka 1 sampai 9\n",
        "    string = \"123456789\"\n",
        "    # Substring yang dicari adalah \"56\"\n",
        "    sub_str = \"56\"\n",
        "\n",
        "    # Panggil fungsi\n",
        "    pos = string_match(string, sub_str)\n",
        "\n",
        "    # Tampilkan hasil pencarian\n",
        "    if pos != -1:\n",
        "        print(f\"Substring '{sub_str}' ditemukan mulai dari indeks ke-{pos} (posisi ke-{pos+1} jika dihitung dari 1).\")\n",
        "    else:\n",
        "        print(f\"Substring '{sub_str}' tidak ditemukan dalam string '{string}'.\")"
      ],
      "metadata": {
        "id": "I8WSiIjFL05I",
        "colab": {
          "base_uri": "https://localhost:8080/"
        },
        "outputId": "16305083-4b53-441e-ad2c-731dbcc6600f"
      },
      "execution_count": 2,
      "outputs": [
        {
          "output_type": "stream",
          "name": "stdout",
          "text": [
            "Substring '56' ditemukan mulai dari indeks ke-4 (posisi ke-5 jika dihitung dari 1).\n"
          ]
        }
      ]
    },
    {
      "cell_type": "code",
      "source": [
        "import random\n",
        "from itertools import permutations\n",
        "alltours = permutations\n",
        "\n",
        "def distance_tour(aTour):\n",
        "  return sum(distance_points(aTour[i - 1], aTour[i])\n",
        "      for i in range(len(aTour)))\n",
        "\n",
        "aCity = complex\n",
        "\n",
        "def distance_points(first, second):\n",
        "  return abs(first - second)\n",
        "\n",
        "def generate_cities(number_of_cities):\n",
        "  seed = 111; width = 500; height = 300\n",
        "  random.seed(number_of_cities, seed)\n",
        "  return frozenset(aCity(random.randint(1, width), random.randint(1, height))\n",
        "      for c in range(number_of_cities))"
      ],
      "metadata": {
        "id": "Job6KO_zL5Yf"
      },
      "execution_count": 24,
      "outputs": []
    },
    {
      "cell_type": "code",
      "source": [
        "%matplotlib inline\n",
        "import matplotlib.pyplot as plt\n",
        "\n",
        "def visualize_tour(tour, style = 'bo-'):\n",
        "  if len(tour) > 1000: plt.figure(figsize = (15, 10))\n",
        "  start = tour[0:1]\n",
        "  visualize_segment(tour + start, style)\n",
        "  visualize_segment(start, 'rD')\n",
        "def visualize_segment (segment, style='bo-'):\n",
        "      plt.plot([X(c) for c in segment], [Y(c) for c in segment], style, clip_on = False)\n",
        "      plt.axis('scaled')\n",
        "      plt.axis('off')\n",
        "\n",
        "def X(city): \"X axis\"; return city.real\n",
        "\n",
        "def Y(city): \"Y axis\"; return city.imag"
      ],
      "metadata": {
        "id": "zEdNnWTdNQnJ"
      },
      "execution_count": 25,
      "outputs": []
    },
    {
      "cell_type": "code",
      "source": [
        "from time import process_time\n",
        "from collections import Counter\n",
        "def tsp(algorithm, cities):\n",
        "  t0 = process_time()\n",
        "  tour = algorithm(cities)\n",
        "  t1 = process_time()\n",
        "  assert Counter(tour) == Counter(cities)\n",
        "  visualize_tour(tour)\n",
        "  print(\"{}:{} cities => tour length {:.0f}(in{:.3f}sec)\".format(name(algorithm), len(tour), distance_tour(tour), t1-t0))\n",
        "\n",
        "\n",
        "def name(algorithm): return algorithm.__name__.replace('_tsp','')"
      ],
      "metadata": {
        "id": "9OprG5KtNReh"
      },
      "execution_count": 26,
      "outputs": []
    },
    {
      "cell_type": "code",
      "source": [
        "def brute_force(cities):\n",
        "  \"Generate all possible tours of the cities and choose the shortest tour.\"\n",
        "  return shortest_tour(alltours(cities))\n",
        "def shortest_tour(tours):\n",
        "  return min(tours, key=distance_tour)"
      ],
      "metadata": {
        "id": "T7evGuZkBxFc"
      },
      "execution_count": 27,
      "outputs": []
    },
    {
      "cell_type": "code",
      "source": [
        "tsp(brute_force, generate_cities(10))"
      ],
      "metadata": {
        "colab": {
          "base_uri": "https://localhost:8080/",
          "height": 371
        },
        "id": "JDJwCNf_ETN-",
        "outputId": "14d5be1f-7e8d-408a-f9be-94ca05ed87e2"
      },
      "execution_count": 28,
      "outputs": [
        {
          "output_type": "stream",
          "name": "stdout",
          "text": [
            "brute_force:10 cities => tour length 1206(in10.391sec)\n"
          ]
        },
        {
          "output_type": "display_data",
          "data": {
            "text/plain": [
              "<Figure size 640x480 with 1 Axes>"
            ],
            "image/png": "[encoded data removed]"
          },
          "metadata": {}
        }
      ]
    },
    {
      "cell_type": "code",
      "source": [
        "import math\n",
        "import matplotlib.pyplot as plt\n",
        "\n",
        "def estimasi_waktu_tsp(n, waktu_per_tour=1e-6):\n",
        "    \"\"\"\n",
        "    Menghitung estimasi waktu brute force TSP untuk n kota.\n",
        "    waktu_per_tour: perkiraan waktu menghitung satu tour (detik).\n",
        "    Default = 1 mikrodetik per tour.\n",
        "    \"\"\"\n",
        "    jumlah_tour = math.factorial(n)\n",
        "    waktu_detik = jumlah_tour * waktu_per_tour\n",
        "\n",
        "    waktu_menit = waktu_detik / 60\n",
        "    waktu_jam = waktu_menit / 60\n",
        "    waktu_tahun = waktu_jam / (24 * 365)\n",
        "\n",
        "    print(f\"\\n=== Estimasi Brute Force TSP untuk {n} kota ===\")\n",
        "    print(f\"Jumlah kemungkinan tour : {jumlah_tour:e} (≈ {jumlah_tour:,})\")\n",
        "    print(f\"Perkiraan waktu total   : {waktu_detik:.2e} detik\")\n",
        "    print(f\"≈ {waktu_menit:.2e} menit\")\n",
        "    print(f\"≈ {waktu_jam:.2e} jam\")\n",
        "    print(f\"≈ {waktu_tahun:.2e} tahun\\n\")\n",
        "\n",
        "    return waktu_tahun\n",
        "\n",
        "\n",
        "def grafik_estimasi(min_kota=5, max_kota=20):\n",
        "    \"\"\"Menampilkan grafik pertumbuhan waktu brute force terhadap jumlah kota.\"\"\"\n",
        "    kota = list(range(min_kota, max_kota + 1))\n",
        "    tahun = [estimasi_waktu_tsp(n) for n in kota]\n",
        "\n",
        "    plt.figure(figsize=(10, 6))\n",
        "    plt.plot(kota, tahun, 'bo-', linewidth=2)\n",
        "    plt.title(\"Pertumbuhan Estimasi Waktu Brute Force TSP\")\n",
        "    plt.xlabel(\"Jumlah Kota (n)\")\n",
        "    plt.ylabel(\"Waktu Eksekusi (tahun, skala log)\")\n",
        "    plt.yscale('log')\n",
        "    plt.grid(True)\n",
        "    plt.show()\n",
        "\n",
        "\n",
        "# ==========================\n",
        "# Bagian utama program\n",
        "# ==========================\n",
        "if __name__ == \"__main__\":\n",
        "    # Soal dari dosen: Berapa lama brute force pada TSP dengan 20 titik?\n",
        "    estimasi_waktu_tsp(20)\n",
        "\n",
        "    # (Opsional) tampilkan grafik pertumbuhan waktu dari 5 sampai 20 kota\n",
        "    grafik_estimasi(5, 20)"
      ],
      "metadata": {
        "id": "9POjX9j8DGh-",
        "colab": {
          "base_uri": "https://localhost:8080/",
          "height": 1000
        },
        "outputId": "750eae1d-ced8-4c16-dc75-5ac668fd1711"
      },
      "execution_count": 3,
      "outputs": [
        {
          "output_type": "stream",
          "name": "stdout",
          "text": [
            "\n",
            "=== Estimasi Brute Force TSP untuk 20 kota ===\n",
            "Jumlah kemungkinan tour : 2.432902e+18 (≈ 2,432,902,008,176,640,000)\n",
            "Perkiraan waktu total   : 2.43e+12 detik\n",
            "≈ 4.05e+10 menit\n",
            "≈ 6.76e+08 jam\n",
            "≈ 7.71e+04 tahun\n",
            "\n",
            "\n",
            "=== Estimasi Brute Force TSP untuk 5 kota ===\n",
            "Jumlah kemungkinan tour : 1.200000e+02 (≈ 120)\n",
            "Perkiraan waktu total   : 1.20e-04 detik\n",
            "≈ 2.00e-06 menit\n",
            "≈ 3.33e-08 jam\n",
            "≈ 3.81e-12 tahun\n",
            "\n",
            "\n",
            "=== Estimasi Brute Force TSP untuk 6 kota ===\n",
            "Jumlah kemungkinan tour : 7.200000e+02 (≈ 720)\n",
            "Perkiraan waktu total   : 7.20e-04 detik\n",
            "≈ 1.20e-05 menit\n",
            "≈ 2.00e-07 jam\n",
            "≈ 2.28e-11 tahun\n",
            "\n",
            "\n",
            "=== Estimasi Brute Force TSP untuk 7 kota ===\n",
            "Jumlah kemungkinan tour : 5.040000e+03 (≈ 5,040)\n",
            "Perkiraan waktu total   : 5.04e-03 detik\n",
            "≈ 8.40e-05 menit\n",
            "≈ 1.40e-06 jam\n",
            "≈ 1.60e-10 tahun\n",
            "\n",
            "\n",
            "=== Estimasi Brute Force TSP untuk 8 kota ===\n",
            "Jumlah kemungkinan tour : 4.032000e+04 (≈ 40,320)\n",
            "Perkiraan waktu total   : 4.03e-02 detik\n",
            "≈ 6.72e-04 menit\n",
            "≈ 1.12e-05 jam\n",
            "≈ 1.28e-09 tahun\n",
            "\n",
            "\n",
            "=== Estimasi Brute Force TSP untuk 9 kota ===\n",
            "Jumlah kemungkinan tour : 3.628800e+05 (≈ 362,880)\n",
            "Perkiraan waktu total   : 3.63e-01 detik\n",
            "≈ 6.05e-03 menit\n",
            "≈ 1.01e-04 jam\n",
            "≈ 1.15e-08 tahun\n",
            "\n",
            "\n",
            "=== Estimasi Brute Force TSP untuk 10 kota ===\n",
            "Jumlah kemungkinan tour : 3.628800e+06 (≈ 3,628,800)\n",
            "Perkiraan waktu total   : 3.63e+00 detik\n",
            "≈ 6.05e-02 menit\n",
            "≈ 1.01e-03 jam\n",
            "≈ 1.15e-07 tahun\n",
            "\n",
            "\n",
            "=== Estimasi Brute Force TSP untuk 11 kota ===\n",
            "Jumlah kemungkinan tour : 3.991680e+07 (≈ 39,916,800)\n",
            "Perkiraan waktu total   : 3.99e+01 detik\n",
            "≈ 6.65e-01 menit\n",
            "≈ 1.11e-02 jam\n",
            "≈ 1.27e-06 tahun\n",
            "\n",
            "\n",
            "=== Estimasi Brute Force TSP untuk 12 kota ===\n",
            "Jumlah kemungkinan tour : 4.790016e+08 (≈ 479,001,600)\n",
            "Perkiraan waktu total   : 4.79e+02 detik\n",
            "≈ 7.98e+00 menit\n",
            "≈ 1.33e-01 jam\n",
            "≈ 1.52e-05 tahun\n",
            "\n",
            "\n",
            "=== Estimasi Brute Force TSP untuk 13 kota ===\n",
            "Jumlah kemungkinan tour : 6.227021e+09 (≈ 6,227,020,800)\n",
            "Perkiraan waktu total   : 6.23e+03 detik\n",
            "≈ 1.04e+02 menit\n",
            "≈ 1.73e+00 jam\n",
            "≈ 1.97e-04 tahun\n",
            "\n",
            "\n",
            "=== Estimasi Brute Force TSP untuk 14 kota ===\n",
            "Jumlah kemungkinan tour : 8.717829e+10 (≈ 87,178,291,200)\n",
            "Perkiraan waktu total   : 8.72e+04 detik\n",
            "≈ 1.45e+03 menit\n",
            "≈ 2.42e+01 jam\n",
            "≈ 2.76e-03 tahun\n",
            "\n",
            "\n",
            "=== Estimasi Brute Force TSP untuk 15 kota ===\n",
            "Jumlah kemungkinan tour : 1.307674e+12 (≈ 1,307,674,368,000)\n",
            "Perkiraan waktu total   : 1.31e+06 detik\n",
            "≈ 2.18e+04 menit\n",
            "≈ 3.63e+02 jam\n",
            "≈ 4.15e-02 tahun\n",
            "\n",
            "\n",
            "=== Estimasi Brute Force TSP untuk 16 kota ===\n",
            "Jumlah kemungkinan tour : 2.092279e+13 (≈ 20,922,789,888,000)\n",
            "Perkiraan waktu total   : 2.09e+07 detik\n",
            "≈ 3.49e+05 menit\n",
            "≈ 5.81e+03 jam\n",
            "≈ 6.63e-01 tahun\n",
            "\n",
            "\n",
            "=== Estimasi Brute Force TSP untuk 17 kota ===\n",
            "Jumlah kemungkinan tour : 3.556874e+14 (≈ 355,687,428,096,000)\n",
            "Perkiraan waktu total   : 3.56e+08 detik\n",
            "≈ 5.93e+06 menit\n",
            "≈ 9.88e+04 jam\n",
            "≈ 1.13e+01 tahun\n",
            "\n",
            "\n",
            "=== Estimasi Brute Force TSP untuk 18 kota ===\n",
            "Jumlah kemungkinan tour : 6.402374e+15 (≈ 6,402,373,705,728,000)\n",
            "Perkiraan waktu total   : 6.40e+09 detik\n",
            "≈ 1.07e+08 menit\n",
            "≈ 1.78e+06 jam\n",
            "≈ 2.03e+02 tahun\n",
            "\n",
            "\n",
            "=== Estimasi Brute Force TSP untuk 19 kota ===\n",
            "Jumlah kemungkinan tour : 1.216451e+17 (≈ 121,645,100,408,832,000)\n",
            "Perkiraan waktu total   : 1.22e+11 detik\n",
            "≈ 2.03e+09 menit\n",
            "≈ 3.38e+07 jam\n",
            "≈ 3.86e+03 tahun\n",
            "\n",
            "\n",
            "=== Estimasi Brute Force TSP untuk 20 kota ===\n",
            "Jumlah kemungkinan tour : 2.432902e+18 (≈ 2,432,902,008,176,640,000)\n",
            "Perkiraan waktu total   : 2.43e+12 detik\n",
            "≈ 4.05e+10 menit\n",
            "≈ 6.76e+08 jam\n",
            "≈ 7.71e+04 tahun\n",
            "\n"
          ]
        },
        {
          "output_type": "display_data",
          "data": {
            "text/plain": [
              "<Figure size 1000x600 with 1 Axes>"
            ],
            "image/png": "[encoded data removed]"
          },
          "metadata": {}
        }
      ]
    },
    {
      "cell_type": "code",
      "source": [
        "import random\n",
        "import math\n",
        "import time\n",
        "from itertools import permutations\n",
        "import matplotlib.pyplot as plt\n",
        "\n",
        "# =====================\n",
        "# Fungsi pembantu TSP\n",
        "# =====================\n",
        "\n",
        "aCity = complex  # representasi kota sebagai bilangan kompleks (x + yj)\n",
        "\n",
        "def distance_points(first, second):\n",
        "    return abs(first - second)\n",
        "\n",
        "def distance_tour(aTour):\n",
        "    return sum(distance_points(aTour[i - 1], aTour[i]) for i in range(len(aTour)))\n",
        "\n",
        "def generate_cities(number_of_cities):\n",
        "    seed = 111\n",
        "    width, height = 500, 300\n",
        "    random.seed(number_of_cities + seed)\n",
        "    return [aCity(random.randint(1, width), random.randint(1, height))\n",
        "            for _ in range(number_of_cities)]\n",
        "\n",
        "# =====================\n",
        "# Algoritma Brute Force\n",
        "# =====================\n",
        "\n",
        "def brute_force_tsp(cities):\n",
        "    \"Coba semua kemungkinan urutan kota dan pilih yang terpendek.\"\n",
        "    return min(permutations(cities), key=distance_tour)\n",
        "\n",
        "# =====================\n",
        "# Algoritma Greedy (Nearest Neighbor)\n",
        "# =====================\n",
        "\n",
        "def greedy_tsp(cities):\n",
        "    start = cities[0]\n",
        "    unvisited = cities[1:]\n",
        "    tour = [start]\n",
        "    current = start\n",
        "\n",
        "    while unvisited:\n",
        "        next_city = min(unvisited, key=lambda city: distance_points(current, city))\n",
        "        tour.append(next_city)\n",
        "        unvisited.remove(next_city)\n",
        "        current = next_city\n",
        "\n",
        "    return tour\n",
        "\n",
        "# =====================\n",
        "# Fungsi Pembanding\n",
        "# =====================\n",
        "\n",
        "def compare_tsp_algorithms(n):\n",
        "    cities = generate_cities(n)\n",
        "\n",
        "    print(f\"\\n=== Perbandingan Brute Force vs Greedy Algorithm untuk {n} kota ===\")\n",
        "\n",
        "    # Jalankan Greedy\n",
        "    start = time.process_time()\n",
        "    greedy_tour = greedy_tsp(cities)\n",
        "    greedy_time = time.process_time() - start\n",
        "    greedy_dist = distance_tour(greedy_tour)\n",
        "\n",
        "    print(f\"Greedy: waktu = {greedy_time:.6f} detik, jarak = {greedy_dist:.2f}\")\n",
        "\n",
        "    if n <= 10:\n",
        "        # Jalankan brute force hanya untuk <=10 kota agar aman\n",
        "        start = time.process_time()\n",
        "        brute_tour = brute_force_tsp(cities)\n",
        "        brute_time = time.process_time() - start\n",
        "        brute_dist = distance_tour(brute_tour)\n",
        "        print(f\"Brute Force: waktu = {brute_time:.6f} detik, jarak = {brute_dist:.2f}\")\n",
        "    else:\n",
        "        # Estimasi saja untuk n > 10\n",
        "        jumlah_tour = math.factorial(n)\n",
        "        estimasi_detik = jumlah_tour * 1e-6\n",
        "        estimasi_tahun = estimasi_detik / (3600 * 24 * 365)\n",
        "        print(f\"Brute Force: TIDAK DIJALANKAN (estimasi waktu ≈ {estimasi_tahun:.2e} tahun)\")\n",
        "\n",
        "# =====================\n",
        "# Jalankan untuk 20 kota\n",
        "# =====================\n",
        "\n",
        "if __name__ == \"__main__\":\n",
        "    compare_tsp_algorithms(20)"
      ],
      "metadata": {
        "id": "ljSY8r4jDIqX",
        "colab": {
          "base_uri": "https://localhost:8080/"
        },
        "outputId": "044baf07-9df4-4fc0-ff5c-9fa8c0b5e0d5"
      },
      "execution_count": 4,
      "outputs": [
        {
          "output_type": "stream",
          "name": "stdout",
          "text": [
            "\n",
            "=== Perbandingan Brute Force vs Greedy Algorithm untuk 20 kota ===\n",
            "Greedy: waktu = 0.000102 detik, jarak = 1900.82\n",
            "Brute Force: TIDAK DIJALANKAN (estimasi waktu ≈ 7.71e+04 tahun)\n"
          ]
        }
      ]
    }
  ]
}