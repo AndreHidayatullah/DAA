{
  "nbformat": 4,
  "nbformat_minor": 0,
  "metadata": {
    "colab": {
      "provenance": [],
      "authorship_tag": "ABX9TyOklNebMGAVf4hUrvulNjO0",
      "include_colab_link": true
    },
    "kernelspec": {
      "name": "python3",
      "display_name": "Python 3"
    },
    "language_info": {
      "name": "python"
    }
  },
  "cells": [
    {
      "cell_type": "markdown",
      "metadata": {
        "id": "view-in-github",
        "colab_type": "text"
      },
      "source": [
        "<a href=\"https://colab.research.google.com/github/AndreHidayatullah/Latihan-DAA-Pertemuan-2/blob/main/Latihan_DAA_Pertemuan_2.ipynb\" target=\"_parent\"><img src=\"https://colab.research.google.com/assets/colab-badge.svg\" alt=\"Open In Colab\"/></a>"
      ]
    },
    {
      "cell_type": "code",
      "execution_count": 113,
      "metadata": {
        "colab": {
          "base_uri": "https://localhost:8080/"
        },
        "id": "YdsGS9canZGb",
        "outputId": "f156718c-4f03-41aa-c687-16e462da9d18"
      },
      "outputs": [
        {
          "output_type": "stream",
          "name": "stdout",
          "text": [
            "[1, 2, 3, 4, 5, 6]\n"
          ]
        }
      ],
      "source": [
        "import numpy as np\n",
        "\n",
        "a = [1, 2, 3]\n",
        "b = [4, 5, 6]\n",
        "hasil = a+b\n",
        "print(hasil)"
      ]
    },
    {
      "cell_type": "code",
      "source": [
        "def add(list_a, list_b):\n",
        "    result = []\n",
        "    for first, second in zip(list_a, list_b):\n",
        "        result.append(first+second)\n",
        "    return result\n",
        "\n",
        "print(a)\n",
        "print(b)\n",
        "print(add(a, b))"
      ],
      "metadata": {
        "colab": {
          "base_uri": "https://localhost:8080/"
        },
        "id": "SiCMQiT0rp6E",
        "outputId": "60dbb7d5-5f10-47ff-ec41-7bea1304fffc"
      },
      "execution_count": 114,
      "outputs": [
        {
          "output_type": "stream",
          "name": "stdout",
          "text": [
            "[1, 2, 3]\n",
            "[4, 5, 6]\n",
            "[5, 7, 9]\n"
          ]
        }
      ]
    },
    {
      "cell_type": "code",
      "source": [
        "def add_and_sum(list_a, list_b):\n",
        "    result = []\n",
        "    for first, second in zip(list_a, list_b):\n",
        "        result.append(first + second)\n",
        "\n",
        "    x = 0\n",
        "    for i in result:\n",
        "        x += i\n",
        "    return x\n",
        "\n",
        "print(add_and_sum(a, b))"
      ],
      "metadata": {
        "colab": {
          "base_uri": "https://localhost:8080/"
        },
        "id": "dqmh6wXnwrkr",
        "outputId": "8356257c-f968-4678-87af-318ef2f53519"
      },
      "execution_count": 115,
      "outputs": [
        {
          "output_type": "stream",
          "name": "stdout",
          "text": [
            "21\n"
          ]
        }
      ]
    },
    {
      "cell_type": "code",
      "source": [
        "import numpy as np\n",
        "nilai_siswa = np.array([85, 55, 40, 90])\n",
        "print(nilai_siswa[3])"
      ],
      "metadata": {
        "colab": {
          "base_uri": "https://localhost:8080/"
        },
        "id": "YV-pR4EKzd_d",
        "outputId": "404e0363-e29f-4c16-8d92-614cf73d8356"
      },
      "execution_count": 116,
      "outputs": [
        {
          "output_type": "stream",
          "name": "stdout",
          "text": [
            "90\n"
          ]
        }
      ]
    },
    {
      "cell_type": "code",
      "source": [
        "import numpy as np\n",
        "print(np.__version__)"
      ],
      "metadata": {
        "colab": {
          "base_uri": "https://localhost:8080/"
        },
        "id": "gqfPmRBZz5Ju",
        "outputId": "ba6072fd-71af-4fac-a9f1-0082fb6ba783"
      },
      "execution_count": 117,
      "outputs": [
        {
          "output_type": "stream",
          "name": "stdout",
          "text": [
            "2.0.2\n"
          ]
        }
      ]
    },
    {
      "cell_type": "code",
      "source": [
        "print(\"Hello World!\")\n",
        "print(\"Nama saya (Andre Hidayatullah putra)\")\n",
        "print(\"NIM saya (2024071009)\")"
      ],
      "metadata": {
        "colab": {
          "base_uri": "https://localhost:8080/"
        },
        "id": "2bLHNxcS0IgZ",
        "outputId": "2367ab1d-db36-4ae5-dcd8-e4b0c2b13ef8"
      },
      "execution_count": 118,
      "outputs": [
        {
          "output_type": "stream",
          "name": "stdout",
          "text": [
            "Hello World!\n",
            "Nama saya (Andre Hidayatullah putra)\n",
            "NIM saya (2024071009)\n"
          ]
        }
      ]
    },
    {
      "cell_type": "code",
      "source": [
        "print(\"Hello World!\")\n",
        "nama = input(\"Masukkan nama Anda: \")\n",
        "nim = input(\"Masukkan NIM Anda: \")\n",
        "print(\"Nama saya (\" + nama + \")\")\n",
        "print(\"NIM saya (\" + nim + \")\")"
      ],
      "metadata": {
        "colab": {
          "base_uri": "https://localhost:8080/"
        },
        "id": "1nAKMKW91DHZ",
        "outputId": "03172cc1-2409-4e9e-85ad-a97d89c48a35"
      },
      "execution_count": null,
      "outputs": [
        {
          "output_type": "stream",
          "name": "stdout",
          "text": [
            "Hello World!\n"
          ]
        }
      ]
    },
    {
      "cell_type": "code",
      "source": [
        "5>2\n",
        "\n",
        "angka_pertama = 5\n",
        "angka_kedua = 2\n",
        "\n",
        "if angka_pertama > angka_kedua:\n",
        "    print(f\"{angka_pertama} is greater than {angka_kedua}!\")"
      ],
      "metadata": {
        "id": "QJCEet957j6h"
      },
      "execution_count": null,
      "outputs": []
    },
    {
      "cell_type": "code",
      "source": [
        "angka_pertama = 2\n",
        "angka_kedua = 5\n",
        "\n",
        "if angka_pertama > angka_kedua:\n",
        "    print(f\"{angka_pertama} is greater than {angka_kedua}!\")"
      ],
      "metadata": {
        "id": "msQQ5Vz27yd_"
      },
      "execution_count": null,
      "outputs": []
    },
    {
      "cell_type": "code",
      "source": [
        "x = 5\n",
        "y = \"John\"\n",
        "print(x)\n",
        "print(y)"
      ],
      "metadata": {
        "id": "bj5Ou3wUJA8r"
      },
      "execution_count": null,
      "outputs": []
    },
    {
      "cell_type": "code",
      "source": [
        "x = 4\n",
        "x = \"Sally\"\n",
        "print (x)"
      ],
      "metadata": {
        "id": "vB3Sa_RXJdFc"
      },
      "execution_count": null,
      "outputs": []
    },
    {
      "cell_type": "code",
      "source": [
        "def getfirst(myList):\n",
        "    return myList[0]"
      ],
      "metadata": {
        "id": "HaC3x3lgAHhF"
      },
      "execution_count": null,
      "outputs": []
    },
    {
      "cell_type": "code",
      "source": [
        " getfirst([1,2,3])"
      ],
      "metadata": {
        "id": "hNVlOX_21E1n"
      },
      "execution_count": null,
      "outputs": []
    },
    {
      "cell_type": "code",
      "source": [
        "getfirst([1,2,3,4,5,6,7,8,9])"
      ],
      "metadata": {
        "id": "lvDzAFwc07fM"
      },
      "execution_count": null,
      "outputs": []
    },
    {
      "cell_type": "code",
      "source": [
        "a = [1,2,3]\n",
        "b = [7,2,3,5,10]\n"
      ],
      "metadata": {
        "id": "zHlViuER4RAf"
      },
      "execution_count": null,
      "outputs": []
    },
    {
      "cell_type": "code",
      "source": [
        "def getfirst(myList):\n",
        "    return myList[0] if myList else None"
      ],
      "metadata": {
        "id": "wb5st0HY21--"
      },
      "execution_count": null,
      "outputs": []
    },
    {
      "cell_type": "code",
      "source": [
        "print(\"a:\", getfirst(a))\n",
        "print(\"b:\", getfirst(b))"
      ],
      "metadata": {
        "id": "wqqRG4Gr3ZAs"
      },
      "execution_count": null,
      "outputs": []
    },
    {
      "cell_type": "code",
      "source": [
        "\n",
        "def getlast(myList):\n",
        "    return myList[-1] if myList else None"
      ],
      "metadata": {
        "id": "OPvYkk0b259N"
      },
      "execution_count": null,
      "outputs": []
    },
    {
      "cell_type": "code",
      "source": [
        "print(\"a:\", getlast(a))\n",
        "print(\"b:\", getlast(b))"
      ],
      "metadata": {
        "id": "y_BQ5x-d4Hmu"
      },
      "execution_count": null,
      "outputs": []
    },
    {
      "cell_type": "code",
      "source": [
        "def getmiddle(myList):\n",
        "    if not myList:\n",
        "        return None\n",
        "    mid = len(myList) // 2\n",
        "    return myList[mid]"
      ],
      "metadata": {
        "id": "Hzh2hOaM28t7"
      },
      "execution_count": null,
      "outputs": []
    },
    {
      "cell_type": "code",
      "source": [
        "print(\"a:\", getmiddle(a))\n",
        "print(\"b:\", getmiddle(b))"
      ],
      "metadata": {
        "id": "xrUIEtbY4PYe"
      },
      "execution_count": null,
      "outputs": []
    },
    {
      "cell_type": "code",
      "source": [
        "my_list = [1,2,3]\n",
        "panjang_list = len(my_list)\n",
        "print(panjang_list)\n",
        "print(my_list[len(my_list)-1])\n",
        "\n",
        "elemen_terakhir = my_list[-1]\n",
        "print(elemen_terakhir)\n",
        "\n",
        "if my_list:\n",
        "    indeks_tengah = len(my_list) // 2\n",
        "    elemen_tengah = my_list[indeks_tengah]\n",
        "    print(elemen_tengah)\n",
        "else:\n",
        "    print(\"List kosong, tidak ada elemen tengah.\")"
      ],
      "metadata": {
        "id": "TXjFmPUjK4BT"
      },
      "execution_count": null,
      "outputs": []
    },
    {
      "cell_type": "code",
      "source": [
        "def getsum(my_list):\n",
        "  sum = 0\n",
        "  for item in my_list:\n",
        "    sum = sum + item\n",
        "  return sum"
      ],
      "metadata": {
        "id": "DgCxr0At1Uq_"
      },
      "execution_count": null,
      "outputs": []
    },
    {
      "cell_type": "code",
      "source": [
        "getsum([1,2,3])"
      ],
      "metadata": {
        "id": "a876YKIk1oVe"
      },
      "execution_count": null,
      "outputs": []
    },
    {
      "cell_type": "code",
      "source": [
        "getsum([1,2,3,4])"
      ],
      "metadata": {
        "id": "tY5Mu_u31yGU"
      },
      "execution_count": null,
      "outputs": []
    },
    {
      "cell_type": "code",
      "source": [
        "def getkali(my_list):\n",
        "  kali = 1\n",
        "  for item in my_list:\n",
        "    kali = kali * item\n",
        "  return kali"
      ],
      "metadata": {
        "id": "972imTCB8ZUy"
      },
      "execution_count": null,
      "outputs": []
    },
    {
      "cell_type": "code",
      "source": [
        "getkali([1,2,3])"
      ],
      "metadata": {
        "id": "lfGTDZWQ9gFy"
      },
      "execution_count": null,
      "outputs": []
    },
    {
      "cell_type": "code",
      "source": [
        "getkali([1,2,3,4])"
      ],
      "metadata": {
        "id": "mnWdnLxQ9w4C"
      },
      "execution_count": null,
      "outputs": []
    },
    {
      "cell_type": "code",
      "source": [
        "def getbagi(my_list):\n",
        "  bagi = my_list[0]\n",
        "  for item in my_list[1:]:\n",
        "    bagi = bagi / item\n",
        "  return bagi"
      ],
      "metadata": {
        "id": "MMaFcrEv9f3C"
      },
      "execution_count": null,
      "outputs": []
    },
    {
      "cell_type": "code",
      "source": [
        "getbagi([1,2,3])"
      ],
      "metadata": {
        "id": "SGfuIOYx-S4u"
      },
      "execution_count": null,
      "outputs": []
    },
    {
      "cell_type": "code",
      "source": [
        "getbagi([1,2,3,4])"
      ],
      "metadata": {
        "id": "0tzMjw1u-Stu"
      },
      "execution_count": null,
      "outputs": []
    },
    {
      "cell_type": "code",
      "source": [
        "def getsum(my_list):\n",
        "  total_sum = 0\n",
        "  for row in my_list:\n",
        "    for item in row:\n",
        "      total_sum += item\n",
        "  return total_sum"
      ],
      "metadata": {
        "id": "Tbh2OjimA3hU"
      },
      "execution_count": null,
      "outputs": []
    },
    {
      "cell_type": "code",
      "source": [
        "getsum([[1,2,5],[3,4,7]])"
      ],
      "metadata": {
        "id": "l31zT5GyBWwU"
      },
      "execution_count": null,
      "outputs": []
    },
    {
      "cell_type": "code",
      "source": [
        "getsum([[1,2],[3,4]])"
      ],
      "metadata": {
        "id": "NfZcVOUABtcc"
      },
      "execution_count": null,
      "outputs": []
    },
    {
      "cell_type": "code",
      "source": [
        "getsum([[1,2,3],[4,5,6]])"
      ],
      "metadata": {
        "id": "R-PTwWCKBw1I"
      },
      "execution_count": null,
      "outputs": []
    },
    {
      "cell_type": "code",
      "source": [
        "def getbagi(my_list):\n",
        "  hasil_bagi = my_list[0][0]\n",
        "  for row in my_list:\n",
        "    for item in row[1:]:\n",
        "      hasil_bagi /= item\n",
        "  return hasil_bagi"
      ],
      "metadata": {
        "id": "ynUJ7yhtCQde"
      },
      "execution_count": null,
      "outputs": []
    },
    {
      "cell_type": "code",
      "source": [
        "getbagi([[1,2,5],[3,4,7]])"
      ],
      "metadata": {
        "id": "CSqiGdHRCo_M"
      },
      "execution_count": null,
      "outputs": []
    },
    {
      "cell_type": "code",
      "source": [
        "getbagi([[1,2],[3,4]])"
      ],
      "metadata": {
        "id": "hLYpj1rKColf"
      },
      "execution_count": null,
      "outputs": []
    },
    {
      "cell_type": "code",
      "source": [
        "getbagi([[1,2,3],[4,5,6]])"
      ],
      "metadata": {
        "id": "HF1dbI6sCoeP"
      },
      "execution_count": null,
      "outputs": []
    },
    {
      "cell_type": "code",
      "source": [
        "def getkurang(my_list):\n",
        "  total_kurang = my_list[0][0]\n",
        "  for row in my_list:\n",
        "    for item in row[1:]:\n",
        "      total_kurang -= item\n",
        "  return total_kurang"
      ],
      "metadata": {
        "id": "82dJryT-DAjg"
      },
      "execution_count": null,
      "outputs": []
    },
    {
      "cell_type": "code",
      "source": [
        "getkurang([[1,2,5],[3,4,7]])"
      ],
      "metadata": {
        "id": "Bvyzj_uuDyof"
      },
      "execution_count": null,
      "outputs": []
    },
    {
      "cell_type": "code",
      "source": [
        "getkurang([[1,2],[3,4]])"
      ],
      "metadata": {
        "id": "kkYsruOEDyhn"
      },
      "execution_count": null,
      "outputs": []
    },
    {
      "cell_type": "code",
      "source": [
        "getkurang([[1,2,3],[4,5,6]])"
      ],
      "metadata": {
        "id": "J3PgWZrpD1Pr"
      },
      "execution_count": null,
      "outputs": []
    },
    {
      "cell_type": "code",
      "source": [
        "def searchBinary(my_list,item):\n",
        "  first = 0\n",
        "  last = len(my_list) - 1\n",
        "  foundFlag = False\n",
        "  while(first<=last and not foundFlag):\n",
        "    mid = (first + last)//2\n",
        "    if my_list[mid] == item :\n",
        "      foundFlag = True\n",
        "    else:\n",
        "      if item < my_list[mid]:\n",
        "        last = mid - 1\n",
        "      else:\n",
        "        first = mid + 1\n",
        "  return foundFlag"
      ],
      "metadata": {
        "id": "5HWkorS_EJMe"
      },
      "execution_count": null,
      "outputs": []
    },
    {
      "cell_type": "code",
      "source": [
        "searchBinary([8,9,10,100,1000,2000,3000], 10)"
      ],
      "metadata": {
        "id": "iAM6Oh-xFcfv"
      },
      "execution_count": null,
      "outputs": []
    },
    {
      "cell_type": "code",
      "source": [
        "searchBinary([8,9,10,100,1000,2000,3000], 5)"
      ],
      "metadata": {
        "id": "a1K9RactFcYv"
      },
      "execution_count": null,
      "outputs": []
    }
  ]
}