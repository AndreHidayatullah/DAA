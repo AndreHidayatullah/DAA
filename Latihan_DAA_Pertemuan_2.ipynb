{
  "nbformat": 4,
  "nbformat_minor": 0,
  "metadata": {
    "colab": {
      "provenance": [],
      "authorship_tag": "ABX9TyOklNebMGAVf4hUrvulNjO0",
      "include_colab_link": true
    },
    "kernelspec": {
      "name": "python3",
      "display_name": "Python 3"
    },
    "language_info": {
      "name": "python"
    }
  },
  "cells": [
    {
      "cell_type": "markdown",
      "metadata": {
        "id": "view-in-github",
        "colab_type": "text"
      },
      "source": [
        "<a href=\"https://colab.research.google.com/github/AndreHidayatullah/DAA/blob/main/Latihan_DAA_Pertemuan_2.ipynb\" target=\"_parent\"><img src=\"https://colab.research.google.com/assets/colab-badge.svg\" alt=\"Open In Colab\"/></a>"
      ]
    },
    {
      "cell_type": "code",
      "execution_count": null,
      "metadata": {
        "colab": {
          "base_uri": "https://localhost:8080/"
        },
        "id": "YdsGS9canZGb",
        "outputId": "f156718c-4f03-41aa-c687-16e462da9d18"
      },
      "outputs": [
        {
          "output_type": "stream",
          "name": "stdout",
          "text": [
            "[1, 2, 3, 4, 5, 6]\n"
          ]
        }
      ],
      "source": [
        "import numpy as np\n",
        "\n",
        "a = [1, 2, 3]\n",
        "b = [4, 5, 6]\n",
        "hasil = a+b\n",
        "print(hasil)"
      ]
    },
    {
      "cell_type": "code",
      "source": [
        "def add(list_a, list_b):\n",
        "    result = []\n",
        "    for first, second in zip(list_a, list_b):\n",
        "        result.append(first+second)\n",
        "    return result\n",
        "\n",
        "print(a)\n",
        "print(b)\n",
        "print(add(a, b))"
      ],
      "metadata": {
        "colab": {
          "base_uri": "https://localhost:8080/"
        },
        "id": "SiCMQiT0rp6E",
        "outputId": "60dbb7d5-5f10-47ff-ec41-7bea1304fffc"
      },
      "execution_count": null,
      "outputs": [
        {
          "output_type": "stream",
          "name": "stdout",
          "text": [
            "[1, 2, 3]\n",
            "[4, 5, 6]\n",
            "[5, 7, 9]\n"
          ]
        }
      ]
    },
    {
      "cell_type": "code",
      "source": [
        "def add_and_sum(list_a, list_b):\n",
        "    result = []\n",
        "    for first, second in zip(list_a, list_b):\n",
        "        result.append(first + second)\n",
        "\n",
        "    x = 0\n",
        "    for i in result:\n",
        "        x += i\n",
        "    return x\n",
        "\n",
        "print(add_and_sum(a, b))"
      ],
      "metadata": {
        "colab": {
          "base_uri": "https://localhost:8080/"
        },
        "id": "dqmh6wXnwrkr",
        "outputId": "8356257c-f968-4678-87af-318ef2f53519"
      },
      "execution_count": null,
      "outputs": [
        {
          "output_type": "stream",
          "name": "stdout",
          "text": [
            "21\n"
          ]
        }
      ]
    },
    {
      "cell_type": "code",
      "source": [
        "import numpy as np\n",
        "nilai_siswa = np.array([85, 55, 40, 90])\n",
        "print(nilai_siswa[3])"
      ],
      "metadata": {
        "colab": {
          "base_uri": "https://localhost:8080/"
        },
        "id": "YV-pR4EKzd_d",
        "outputId": "404e0363-e29f-4c16-8d92-614cf73d8356"
      },
      "execution_count": null,
      "outputs": [
        {
          "output_type": "stream",
          "name": "stdout",
          "text": [
            "90\n"
          ]
        }
      ]
    },
    {
      "cell_type": "code",
      "source": [
        "import numpy as np\n",
        "print(np.__version__)"
      ],
      "metadata": {
        "colab": {
          "base_uri": "https://localhost:8080/"
        },
        "id": "gqfPmRBZz5Ju",
        "outputId": "ba6072fd-71af-4fac-a9f1-0082fb6ba783"
      },
      "execution_count": null,
      "outputs": [
        {
          "output_type": "stream",
          "name": "stdout",
          "text": [
            "2.0.2\n"
          ]
        }
      ]
    },
    {
      "cell_type": "code",
      "source": [
        "print(\"Hello World!\")\n",
        "print(\"Nama saya (Andre Hidayatullah putra)\")\n",
        "print(\"NIM saya (2024071009)\")"
      ],
      "metadata": {
        "colab": {
          "base_uri": "https://localhost:8080/"
        },
        "id": "2bLHNxcS0IgZ",
        "outputId": "2367ab1d-db36-4ae5-dcd8-e4b0c2b13ef8"
      },
      "execution_count": null,
      "outputs": [
        {
          "output_type": "stream",
          "name": "stdout",
          "text": [
            "Hello World!\n",
            "Nama saya (Andre Hidayatullah putra)\n",
            "NIM saya (2024071009)\n"
          ]
        }
      ]
    },
    {
      "cell_type": "code",
      "source": [
        "print(\"Hello World!\")\n",
        "nama = input(\"Masukkan nama Anda: \")\n",
        "nim = input(\"Masukkan NIM Anda: \")\n",
        "print(\"Nama saya (\" + nama + \")\")\n",
        "print(\"NIM saya (\" + nim + \")\")"
      ],
      "metadata": {
        "colab": {
          "base_uri": "https://localhost:8080/"
        },
        "id": "1nAKMKW91DHZ",
        "outputId": "74f2829d-e1c5-434e-c7b3-758866390088"
      },
      "execution_count": 161,
      "outputs": [
        {
          "output_type": "stream",
          "name": "stdout",
          "text": [
            "Hello World!\n",
            "Masukkan nama Anda: Andre Hidayatullah Putra\n",
            "Masukkan NIM Anda: 2024071009\n",
            "Nama saya (Andre Hidayatullah Putra)\n",
            "NIM saya (2024071009)\n"
          ]
        }
      ]
    },
    {
      "cell_type": "code",
      "source": [
        "5>2\n",
        "\n",
        "angka_pertama = 5\n",
        "angka_kedua = 2\n",
        "\n",
        "if angka_pertama > angka_kedua:\n",
        "    print(f\"{angka_pertama} is greater than {angka_kedua}!\")"
      ],
      "metadata": {
        "id": "QJCEet957j6h",
        "colab": {
          "base_uri": "https://localhost:8080/"
        },
        "outputId": "cca5fe37-624b-4c4b-acce-6d5f20617bb4"
      },
      "execution_count": 162,
      "outputs": [
        {
          "output_type": "stream",
          "name": "stdout",
          "text": [
            "5 is greater than 2!\n"
          ]
        }
      ]
    },
    {
      "cell_type": "code",
      "source": [
        "angka_pertama = 2\n",
        "angka_kedua = 5\n",
        "\n",
        "if angka_pertama > angka_kedua:\n",
        "    print(f\"{angka_pertama} is greater than {angka_kedua}!\")"
      ],
      "metadata": {
        "id": "msQQ5Vz27yd_"
      },
      "execution_count": 163,
      "outputs": []
    },
    {
      "cell_type": "code",
      "source": [
        "x = 5\n",
        "y = \"John\"\n",
        "print(x)\n",
        "print(y)"
      ],
      "metadata": {
        "id": "bj5Ou3wUJA8r",
        "colab": {
          "base_uri": "https://localhost:8080/"
        },
        "outputId": "7bee4bbe-d397-4c93-afd6-97781c44d134"
      },
      "execution_count": 164,
      "outputs": [
        {
          "output_type": "stream",
          "name": "stdout",
          "text": [
            "5\n",
            "John\n"
          ]
        }
      ]
    },
    {
      "cell_type": "code",
      "source": [
        "x = 4\n",
        "x = \"Sally\"\n",
        "print (x)"
      ],
      "metadata": {
        "id": "vB3Sa_RXJdFc",
        "colab": {
          "base_uri": "https://localhost:8080/"
        },
        "outputId": "3610f8b5-056f-4b04-bd09-f62c9edd642b"
      },
      "execution_count": 165,
      "outputs": [
        {
          "output_type": "stream",
          "name": "stdout",
          "text": [
            "Sally\n"
          ]
        }
      ]
    },
    {
      "cell_type": "code",
      "source": [
        "def getfirst(myList):\n",
        "    return myList[0]"
      ],
      "metadata": {
        "id": "HaC3x3lgAHhF"
      },
      "execution_count": 166,
      "outputs": []
    },
    {
      "cell_type": "code",
      "source": [
        " getfirst([1,2,3])"
      ],
      "metadata": {
        "id": "hNVlOX_21E1n",
        "colab": {
          "base_uri": "https://localhost:8080/"
        },
        "outputId": "02941db0-adc7-4b2f-8ad8-5ebf54f4eee6"
      },
      "execution_count": 167,
      "outputs": [
        {
          "output_type": "execute_result",
          "data": {
            "text/plain": [
              "1"
            ]
          },
          "metadata": {},
          "execution_count": 167
        }
      ]
    },
    {
      "cell_type": "code",
      "source": [
        "getfirst([1,2,3,4,5,6,7,8,9])"
      ],
      "metadata": {
        "id": "lvDzAFwc07fM",
        "colab": {
          "base_uri": "https://localhost:8080/"
        },
        "outputId": "06f2fd44-620e-4b85-d64a-3b0b034d6508"
      },
      "execution_count": 168,
      "outputs": [
        {
          "output_type": "execute_result",
          "data": {
            "text/plain": [
              "1"
            ]
          },
          "metadata": {},
          "execution_count": 168
        }
      ]
    },
    {
      "cell_type": "code",
      "source": [
        "a = [1,2,3]\n",
        "b = [7,2,3,5,10]\n"
      ],
      "metadata": {
        "id": "zHlViuER4RAf"
      },
      "execution_count": 169,
      "outputs": []
    },
    {
      "cell_type": "code",
      "source": [
        "def getfirst(myList):\n",
        "    return myList[0] if myList else None"
      ],
      "metadata": {
        "id": "wb5st0HY21--"
      },
      "execution_count": 170,
      "outputs": []
    },
    {
      "cell_type": "code",
      "source": [
        "print(\"a:\", getfirst(a))\n",
        "print(\"b:\", getfirst(b))"
      ],
      "metadata": {
        "id": "wqqRG4Gr3ZAs",
        "colab": {
          "base_uri": "https://localhost:8080/"
        },
        "outputId": "544a8029-45d3-4b78-dee0-87e0a3c9dd79"
      },
      "execution_count": 171,
      "outputs": [
        {
          "output_type": "stream",
          "name": "stdout",
          "text": [
            "a: 1\n",
            "b: 7\n"
          ]
        }
      ]
    },
    {
      "cell_type": "code",
      "source": [
        "\n",
        "def getlast(myList):\n",
        "    return myList[-1] if myList else None"
      ],
      "metadata": {
        "id": "OPvYkk0b259N"
      },
      "execution_count": 172,
      "outputs": []
    },
    {
      "cell_type": "code",
      "source": [
        "print(\"a:\", getlast(a))\n",
        "print(\"b:\", getlast(b))"
      ],
      "metadata": {
        "id": "y_BQ5x-d4Hmu",
        "colab": {
          "base_uri": "https://localhost:8080/"
        },
        "outputId": "c638bda1-30a1-4e69-bca6-098ee132b159"
      },
      "execution_count": 173,
      "outputs": [
        {
          "output_type": "stream",
          "name": "stdout",
          "text": [
            "a: 3\n",
            "b: 10\n"
          ]
        }
      ]
    },
    {
      "cell_type": "code",
      "source": [
        "def getmiddle(myList):\n",
        "    if not myList:\n",
        "        return None\n",
        "    mid = len(myList) // 2\n",
        "    return myList[mid]"
      ],
      "metadata": {
        "id": "Hzh2hOaM28t7"
      },
      "execution_count": 174,
      "outputs": []
    },
    {
      "cell_type": "code",
      "source": [
        "print(\"a:\", getmiddle(a))\n",
        "print(\"b:\", getmiddle(b))"
      ],
      "metadata": {
        "id": "xrUIEtbY4PYe",
        "colab": {
          "base_uri": "https://localhost:8080/"
        },
        "outputId": "d59422f3-c761-4e87-a056-a36ea9f3e3e3"
      },
      "execution_count": 175,
      "outputs": [
        {
          "output_type": "stream",
          "name": "stdout",
          "text": [
            "a: 2\n",
            "b: 3\n"
          ]
        }
      ]
    },
    {
      "cell_type": "code",
      "source": [
        "my_list = [1,2,3]\n",
        "panjang_list = len(my_list)\n",
        "print(panjang_list)\n",
        "print(my_list[len(my_list)-1])\n",
        "\n",
        "elemen_terakhir = my_list[-1]\n",
        "print(elemen_terakhir)\n",
        "\n",
        "if my_list:\n",
        "    indeks_tengah = len(my_list) // 2\n",
        "    elemen_tengah = my_list[indeks_tengah]\n",
        "    print(elemen_tengah)\n",
        "else:\n",
        "    print(\"List kosong, tidak ada elemen tengah.\")"
      ],
      "metadata": {
        "id": "TXjFmPUjK4BT",
        "colab": {
          "base_uri": "https://localhost:8080/"
        },
        "outputId": "b5ab9eaf-f537-4fdd-ad8b-cfa4ec658c6c"
      },
      "execution_count": 176,
      "outputs": [
        {
          "output_type": "stream",
          "name": "stdout",
          "text": [
            "3\n",
            "3\n",
            "3\n",
            "2\n"
          ]
        }
      ]
    },
    {
      "cell_type": "code",
      "source": [
        "def getsum(my_list):\n",
        "  sum = 0\n",
        "  for item in my_list:\n",
        "    sum = sum + item\n",
        "  return sum"
      ],
      "metadata": {
        "id": "DgCxr0At1Uq_"
      },
      "execution_count": 177,
      "outputs": []
    },
    {
      "cell_type": "code",
      "source": [
        "getsum([1,2,3])"
      ],
      "metadata": {
        "id": "a876YKIk1oVe",
        "colab": {
          "base_uri": "https://localhost:8080/"
        },
        "outputId": "c58b65d4-489f-455a-f2e1-3360ac4eb263"
      },
      "execution_count": 178,
      "outputs": [
        {
          "output_type": "execute_result",
          "data": {
            "text/plain": [
              "6"
            ]
          },
          "metadata": {},
          "execution_count": 178
        }
      ]
    },
    {
      "cell_type": "code",
      "source": [
        "getsum([1,2,3,4])"
      ],
      "metadata": {
        "id": "tY5Mu_u31yGU",
        "colab": {
          "base_uri": "https://localhost:8080/"
        },
        "outputId": "5d2a954c-16a8-43b1-9c90-b5c309d093a1"
      },
      "execution_count": 179,
      "outputs": [
        {
          "output_type": "execute_result",
          "data": {
            "text/plain": [
              "10"
            ]
          },
          "metadata": {},
          "execution_count": 179
        }
      ]
    },
    {
      "cell_type": "code",
      "source": [
        "def getkali(my_list):\n",
        "  kali = 1\n",
        "  for item in my_list:\n",
        "    kali = kali * item\n",
        "  return kali"
      ],
      "metadata": {
        "id": "972imTCB8ZUy"
      },
      "execution_count": 138,
      "outputs": []
    },
    {
      "cell_type": "code",
      "source": [
        "getkali([1,2,3])"
      ],
      "metadata": {
        "id": "lfGTDZWQ9gFy",
        "colab": {
          "base_uri": "https://localhost:8080/"
        },
        "outputId": "43d79c52-2ace-4cc2-90f4-1bf79260a9e4"
      },
      "execution_count": 139,
      "outputs": [
        {
          "output_type": "execute_result",
          "data": {
            "text/plain": [
              "6"
            ]
          },
          "metadata": {},
          "execution_count": 139
        }
      ]
    },
    {
      "cell_type": "code",
      "source": [
        "getkali([1,2,3,4])"
      ],
      "metadata": {
        "id": "mnWdnLxQ9w4C",
        "colab": {
          "base_uri": "https://localhost:8080/"
        },
        "outputId": "f476eee4-505e-4324-8545-612fecd50954"
      },
      "execution_count": 140,
      "outputs": [
        {
          "data": {
            "text/plain": [
              "24"
            ]
          },
          "execution_count": 140,
          "metadata": {},
          "output_type": "execute_result"
        }
      ]
    },
    {
      "cell_type": "code",
      "source": [
        "def getbagi(my_list):\n",
        "  bagi = my_list[0]\n",
        "  for item in my_list[1:]:\n",
        "    bagi = bagi / item\n",
        "  return bagi"
      ],
      "metadata": {
        "id": "MMaFcrEv9f3C"
      },
      "execution_count": 141,
      "outputs": []
    },
    {
      "cell_type": "code",
      "source": [
        "getbagi([1,2,3])"
      ],
      "metadata": {
        "id": "SGfuIOYx-S4u",
        "colab": {
          "base_uri": "https://localhost:8080/"
        },
        "outputId": "e87c093b-a0d3-485f-f1a0-e5ddb3a96192"
      },
      "execution_count": 142,
      "outputs": [
        {
          "data": {
            "text/plain": [
              "0.16666666666666666"
            ]
          },
          "execution_count": 142,
          "metadata": {},
          "output_type": "execute_result"
        }
      ]
    },
    {
      "cell_type": "code",
      "source": [
        "getbagi([1,2,3,4])"
      ],
      "metadata": {
        "id": "0tzMjw1u-Stu",
        "colab": {
          "base_uri": "https://localhost:8080/"
        },
        "outputId": "a0995053-e0cd-4ade-cb84-b09f18043302"
      },
      "execution_count": 143,
      "outputs": [
        {
          "data": {
            "text/plain": [
              "0.041666666666666664"
            ]
          },
          "execution_count": 143,
          "metadata": {},
          "output_type": "execute_result"
        }
      ]
    },
    {
      "cell_type": "code",
      "source": [
        "def getsum(my_list):\n",
        "  total_sum = 0\n",
        "  for row in my_list:\n",
        "    for item in row:\n",
        "      total_sum += item\n",
        "  return total_sum"
      ],
      "metadata": {
        "id": "Tbh2OjimA3hU"
      },
      "execution_count": 144,
      "outputs": []
    },
    {
      "cell_type": "code",
      "source": [
        "getsum([[1,2,5],[3,4,7]])"
      ],
      "metadata": {
        "id": "l31zT5GyBWwU",
        "colab": {
          "base_uri": "https://localhost:8080/"
        },
        "outputId": "f533db43-31b0-491c-8ba2-49744580c9c6"
      },
      "execution_count": 145,
      "outputs": [
        {
          "data": {
            "text/plain": [
              "22"
            ]
          },
          "execution_count": 145,
          "metadata": {},
          "output_type": "execute_result"
        }
      ]
    },
    {
      "cell_type": "code",
      "source": [
        "getsum([[1,2],[3,4]])"
      ],
      "metadata": {
        "id": "NfZcVOUABtcc",
        "colab": {
          "base_uri": "https://localhost:8080/"
        },
        "outputId": "2c5f13a1-157d-47ef-a797-039d22aefae7"
      },
      "execution_count": 146,
      "outputs": [
        {
          "data": {
            "text/plain": [
              "10"
            ]
          },
          "execution_count": 146,
          "metadata": {},
          "output_type": "execute_result"
        }
      ]
    },
    {
      "cell_type": "code",
      "source": [
        "getsum([[1,2,3],[4,5,6]])"
      ],
      "metadata": {
        "id": "R-PTwWCKBw1I",
        "colab": {
          "base_uri": "https://localhost:8080/"
        },
        "outputId": "dbd20458-1957-435e-aa0f-48d37d6e2500"
      },
      "execution_count": 147,
      "outputs": [
        {
          "data": {
            "text/plain": [
              "21"
            ]
          },
          "execution_count": 147,
          "metadata": {},
          "output_type": "execute_result"
        }
      ]
    },
    {
      "cell_type": "code",
      "source": [
        "def getbagi(my_list):\n",
        "  hasil_bagi = my_list[0][0]\n",
        "  for row in my_list:\n",
        "    for item in row[1:]:\n",
        "      hasil_bagi /= item\n",
        "  return hasil_bagi"
      ],
      "metadata": {
        "id": "ynUJ7yhtCQde"
      },
      "execution_count": 148,
      "outputs": []
    },
    {
      "cell_type": "code",
      "source": [
        "getbagi([[1,2,5],[3,4,7]])"
      ],
      "metadata": {
        "id": "CSqiGdHRCo_M",
        "colab": {
          "base_uri": "https://localhost:8080/"
        },
        "outputId": "db67344c-5570-45f8-9feb-31d25716c941"
      },
      "execution_count": 149,
      "outputs": [
        {
          "data": {
            "text/plain": [
              "0.0035714285714285718"
            ]
          },
          "execution_count": 149,
          "metadata": {},
          "output_type": "execute_result"
        }
      ]
    },
    {
      "cell_type": "code",
      "source": [
        "getbagi([[1,2],[3,4]])"
      ],
      "metadata": {
        "id": "hLYpj1rKColf",
        "colab": {
          "base_uri": "https://localhost:8080/"
        },
        "outputId": "529118b7-f83c-450f-ad4b-da7a4bbe8382"
      },
      "execution_count": 150,
      "outputs": [
        {
          "data": {
            "text/plain": [
              "0.125"
            ]
          },
          "execution_count": 150,
          "metadata": {},
          "output_type": "execute_result"
        }
      ]
    },
    {
      "cell_type": "code",
      "source": [
        "getbagi([[1,2,3],[4,5,6]])"
      ],
      "metadata": {
        "id": "HF1dbI6sCoeP",
        "colab": {
          "base_uri": "https://localhost:8080/"
        },
        "outputId": "3426607b-a423-4467-be69-ab2413a9c0fc"
      },
      "execution_count": 151,
      "outputs": [
        {
          "data": {
            "text/plain": [
              "0.005555555555555556"
            ]
          },
          "execution_count": 151,
          "metadata": {},
          "output_type": "execute_result"
        }
      ]
    },
    {
      "cell_type": "code",
      "source": [
        "def getkurang(my_list):\n",
        "  total_kurang = my_list[0][0]\n",
        "  for row in my_list:\n",
        "    for item in row[1:]:\n",
        "      total_kurang -= item\n",
        "  return total_kurang"
      ],
      "metadata": {
        "id": "82dJryT-DAjg"
      },
      "execution_count": 152,
      "outputs": []
    },
    {
      "cell_type": "code",
      "source": [
        "getkurang([[1,2,5],[3,4,7]])"
      ],
      "metadata": {
        "id": "Bvyzj_uuDyof",
        "colab": {
          "base_uri": "https://localhost:8080/"
        },
        "outputId": "b9d9a327-4cb6-4d63-e9e7-5c5f1feb45e8"
      },
      "execution_count": 153,
      "outputs": [
        {
          "data": {
            "text/plain": [
              "-17"
            ]
          },
          "execution_count": 153,
          "metadata": {},
          "output_type": "execute_result"
        }
      ]
    },
    {
      "cell_type": "code",
      "source": [
        "getkurang([[1,2],[3,4]])"
      ],
      "metadata": {
        "id": "kkYsruOEDyhn",
        "colab": {
          "base_uri": "https://localhost:8080/"
        },
        "outputId": "aa0c97f8-89e2-4d5e-fe8a-e296ebd7c998"
      },
      "execution_count": 154,
      "outputs": [
        {
          "output_type": "execute_result",
          "data": {
            "text/plain": [
              "-5"
            ]
          },
          "metadata": {},
          "execution_count": 154
        }
      ]
    },
    {
      "cell_type": "code",
      "source": [
        "getkurang([[1,2,3],[4,5,6]])"
      ],
      "metadata": {
        "id": "J3PgWZrpD1Pr",
        "colab": {
          "base_uri": "https://localhost:8080/"
        },
        "outputId": "e3ef37fd-f538-4aa9-b5ea-ffc7315c412f"
      },
      "execution_count": 155,
      "outputs": [
        {
          "data": {
            "text/plain": [
              "-15"
            ]
          },
          "execution_count": 155,
          "metadata": {},
          "output_type": "execute_result"
        }
      ]
    },
    {
      "cell_type": "code",
      "source": [
        "def searchBinary(my_list,item):\n",
        "  first = 0\n",
        "  last = len(my_list) - 1\n",
        "  foundFlag = False\n",
        "  while(first<=last and not foundFlag):\n",
        "    mid = (first + last)//2\n",
        "    if my_list[mid] == item :\n",
        "      foundFlag = True\n",
        "    else:\n",
        "      if item < my_list[mid]:\n",
        "        last = mid - 1\n",
        "      else:\n",
        "        first = mid + 1\n",
        "  return foundFlag"
      ],
      "metadata": {
        "id": "5HWkorS_EJMe"
      },
      "execution_count": 156,
      "outputs": []
    },
    {
      "cell_type": "code",
      "source": [
        "searchBinary([8,9,10,100,1000,2000,3000], 10)"
      ],
      "metadata": {
        "id": "iAM6Oh-xFcfv",
        "colab": {
          "base_uri": "https://localhost:8080/"
        },
        "outputId": "51e42f8c-8842-4ab2-a361-5144b179a474"
      },
      "execution_count": 157,
      "outputs": [
        {
          "data": {
            "text/plain": [
              "True"
            ]
          },
          "execution_count": 157,
          "metadata": {},
          "output_type": "execute_result"
        }
      ]
    },
    {
      "cell_type": "code",
      "source": [
        "searchBinary([8,9,10,100,1000,2000,3000], 5)"
      ],
      "metadata": {
        "id": "a1K9RactFcYv",
        "colab": {
          "base_uri": "https://localhost:8080/"
        },
        "outputId": "d2ce5b0a-0be5-42fa-da6d-9540f5a24394"
      },
      "execution_count": 158,
      "outputs": [
        {
          "data": {
            "text/plain": [
              "False"
            ]
          },
          "execution_count": 158,
          "metadata": {},
          "output_type": "execute_result"
        }
      ]
    }
  ]
}