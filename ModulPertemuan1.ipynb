{
  "nbformat": 4,
  "nbformat_minor": 0,
  "metadata": {
    "colab": {
      "provenance": [],
      "authorship_tag": "ABX9TyNfkFd9ZRAZb2BUndkhjttx",
      "include_colab_link": true
    },
    "kernelspec": {
      "name": "python3",
      "display_name": "Python 3"
    },
    "language_info": {
      "name": "python"
    }
  },
  "cells": [
    {
      "cell_type": "markdown",
      "metadata": {
        "id": "view-in-github",
        "colab_type": "text"
      },
      "source": [
        "<a href=\"https://colab.research.google.com/github/AndreHidayatullah/Latihan-DAA-Pertemuan-2/blob/main/ModulPertemuan1.ipynb\" target=\"_parent\"><img src=\"https://colab.research.google.com/assets/colab-badge.svg\" alt=\"Open In Colab\"/></a>"
      ]
    },
    {
      "cell_type": "code",
      "execution_count": null,
      "metadata": {
        "colab": {
          "base_uri": "https://localhost:8080/"
        },
        "id": "E6hf54g3CRUs",
        "outputId": "8b5d6ace-1221-4f0a-f4f2-2de71964e73e"
      },
      "outputs": [
        {
          "output_type": "stream",
          "name": "stdout",
          "text": [
            "(8, 2)\n"
          ]
        }
      ],
      "source": [
        "def max_min(arr):\n",
        "    mx, mn = arr[0], arr[0]\n",
        "    for x in arr[1:]:\n",
        "        if x > mx: mx = x\n",
        "        if x < mn: mn = x\n",
        "    return mx, mn\n",
        "data = [3, 5, 2, 8, 6]\n",
        "print(max_min(data))  # (8, 2)"
      ]
    },
    {
      "cell_type": "code",
      "source": [
        "def sum_avg(arr):\n",
        "    s = 0\n",
        "    for x in arr: s += x\n",
        "    return s, s/len(arr)\n",
        "print(sum_avg([3,5,2,8,6]))  # (24, 4.8)"
      ],
      "metadata": {
        "colab": {
          "base_uri": "https://localhost:8080/"
        },
        "id": "n4dnIq_WClbb",
        "outputId": "b74b9686-8697-4be4-e3d3-93c65cd928bd"
      },
      "execution_count": null,
      "outputs": [
        {
          "output_type": "stream",
          "name": "stdout",
          "text": [
            "(24, 4.8)\n"
          ]
        }
      ]
    },
    {
      "cell_type": "code",
      "source": [
        "def linear_search(arr, target):\n",
        "    for i, x in enumerate(arr):\n",
        "        if x == target:\n",
        "            return i\n",
        "    return -1\n",
        "print(linear_search([7,1,9,4], 9))  # 2"
      ],
      "metadata": {
        "colab": {
          "base_uri": "https://localhost:8080/"
        },
        "id": "-wZ81fE0Clud",
        "outputId": "64a82f31-d098-41bb-d66a-d06860c0658c"
      },
      "execution_count": null,
      "outputs": [
        {
          "output_type": "stream",
          "name": "stdout",
          "text": [
            "2\n"
          ]
        }
      ]
    },
    {
      "cell_type": "code",
      "source": [
        "def binary_search(arr, target):\n",
        "    l, r = 0, len(arr)-1\n",
        "    while l <= r:\n",
        "        m = (l+r)//2\n",
        "        if arr[m] == target: return m\n",
        "        if arr[m] < target: l = m+1\n",
        "        else: r = m-1\n",
        "    return -1\n",
        "print(binary_search([1,3,5,7,9], 7))  # 3"
      ],
      "metadata": {
        "colab": {
          "base_uri": "https://localhost:8080/"
        },
        "id": "mr2P7QjHCl_y",
        "outputId": "37b56c6c-1ba3-4383-fc43-e4c23dbd7e8f"
      },
      "execution_count": null,
      "outputs": [
        {
          "output_type": "stream",
          "name": "stdout",
          "text": [
            "3\n"
          ]
        }
      ]
    },
    {
      "cell_type": "code",
      "source": [
        "def is_prime(n):\n",
        "    if n < 2: return False\n",
        "    i = 2\n",
        "    while i*i <= n:\n",
        "        if n % i == 0: return False\n",
        "        i += 1\n",
        "    return True\n",
        "print([ (x, is_prime(x)) for x in [2,3,4,17,20,23]\n",
        "])"
      ],
      "metadata": {
        "colab": {
          "base_uri": "https://localhost:8080/"
        },
        "id": "l48N8JkLDgQm",
        "outputId": "d9fc76c2-d632-47f1-ce4d-258b7b965ca4"
      },
      "execution_count": null,
      "outputs": [
        {
          "output_type": "stream",
          "name": "stdout",
          "text": [
            "[(2, True), (3, True), (4, False), (17, True), (20, False), (23, True)]\n"
          ]
        }
      ]
    },
    {
      "cell_type": "code",
      "source": [
        "def sieve(n):\n",
        "    prime = [True]*(n+1)\n",
        "    prime[:2] = [False, False]\n",
        "    p = 2\n",
        "    while p*p <= n:\n",
        "        if prime[p]:\n",
        "            for m in range(p*p, n+1, p):\n",
        "                prime[m] = False\n",
        "        p += 1\n",
        "    return [i for i, v in enumerate(prime) if v]\n",
        "print(sieve(30))"
      ],
      "metadata": {
        "colab": {
          "base_uri": "https://localhost:8080/"
        },
        "id": "Sh1lN3pBDpmn",
        "outputId": "a5cef578-9cd9-4cf4-bdd2-5f8dce2fcea6"
      },
      "execution_count": null,
      "outputs": [
        {
          "output_type": "stream",
          "name": "stdout",
          "text": [
            "[2, 3, 5, 7, 11, 13, 17, 19, 23, 29]\n"
          ]
        }
      ]
    },
    {
      "cell_type": "code",
      "source": [
        "def factorial(n):\n",
        "    res = 1\n",
        "    for i in range(2, n+1): res *= i\n",
        "    return res\n",
        "print(factorial(5))  # 120"
      ],
      "metadata": {
        "colab": {
          "base_uri": "https://localhost:8080/"
        },
        "id": "_0Aa4xfdDsPZ",
        "outputId": "13e3ec11-9022-4a3c-e80a-d9260ae1530f"
      },
      "execution_count": null,
      "outputs": [
        {
          "output_type": "stream",
          "name": "stdout",
          "text": [
            "120\n"
          ]
        }
      ]
    },
    {
      "cell_type": "code",
      "source": [
        "def fib(n):\n",
        "    if n <= 1: return n\n",
        "    a, b = 0, 1\n",
        "    for _ in range(2, n+1):\n",
        "        a, b = b, a+b\n",
        "    return b\n",
        "print([fib(i) for i in range(10)])"
      ],
      "metadata": {
        "colab": {
          "base_uri": "https://localhost:8080/"
        },
        "id": "aYU42n_bDuBZ",
        "outputId": "6be31d9e-26e3-4a43-b8d5-cb71cc26002d"
      },
      "execution_count": null,
      "outputs": [
        {
          "output_type": "stream",
          "name": "stdout",
          "text": [
            "[0, 1, 1, 2, 3, 5, 8, 13, 21, 34]\n"
          ]
        }
      ]
    },
    {
      "cell_type": "code",
      "source": [
        "def is_palindrome(s):\n",
        "    l, r = 0, len(s)-1\n",
        "    while l < r:\n",
        "        if s[l] != s[r]: return False\n",
        "        l += 1; r -= 1\n",
        "    return True\n",
        "print(is_palindrome(\"level\"))\n",
        "print(is_palindrome(\"hello\"))"
      ],
      "metadata": {
        "colab": {
          "base_uri": "https://localhost:8080/"
        },
        "id": "Rv1DfqOZDwB7",
        "outputId": "b51e08af-577f-4a79-c776-d3aa9cc8c521"
      },
      "execution_count": null,
      "outputs": [
        {
          "output_type": "stream",
          "name": "stdout",
          "text": [
            "True\n",
            "False\n"
          ]
        }
      ]
    },
    {
      "cell_type": "code",
      "source": [
        "def freq_map(arr):\n",
        "    f = {}\n",
        "    for x in arr:\n",
        "        f[x] = f.get(x, 0) + 1\n",
        "    return f\n",
        "print(freq_map([\"a\",\"b\",\"a\",\"c\",\"b\",\"a\"]))"
      ],
      "metadata": {
        "colab": {
          "base_uri": "https://localhost:8080/"
        },
        "id": "rFFFUVFtDwD1",
        "outputId": "ce60e833-30f5-4118-bcae-bb107ebdd8f0"
      },
      "execution_count": null,
      "outputs": [
        {
          "output_type": "stream",
          "name": "stdout",
          "text": [
            "{'a': 3, 'b': 2, 'c': 1}\n"
          ]
        }
      ]
    },
    {
      "cell_type": "code",
      "source": [
        "def second_largest(arr):\n",
        "    first = second = float(\"-inf\")\n",
        "    for x in arr:\n",
        "        if x > first:\n",
        "            first, second = x, first\n",
        "        elif first > x > second:\n",
        "            second = x\n",
        "    return second\n",
        "print(second_largest([3,9,1,7,9,5]))  # 7"
      ],
      "metadata": {
        "colab": {
          "base_uri": "https://localhost:8080/"
        },
        "id": "rt00ry2UDwFS",
        "outputId": "e4203d36-85f3-4efa-efa2-ee18027e2628"
      },
      "execution_count": null,
      "outputs": [
        {
          "output_type": "stream",
          "name": "stdout",
          "text": [
            "7\n"
          ]
        }
      ]
    },
    {
      "cell_type": "code",
      "source": [
        "def reverse_list(a):\n",
        "    l, r = 0, len(a)-1\n",
        "    while l < r:\n",
        "        a[l], a[r] = a[r], a[l]\n",
        "        l += 1; r -= 1\n",
        "    return a\n",
        "print(reverse_list([1,2,3,4,5]))\n",
        "print(\"hello\"[::-1])"
      ],
      "metadata": {
        "colab": {
          "base_uri": "https://localhost:8080/"
        },
        "id": "5bbh5KH1D3b3",
        "outputId": "308ad3fa-84f0-4312-919b-fed849a74dba"
      },
      "execution_count": null,
      "outputs": [
        {
          "output_type": "stream",
          "name": "stdout",
          "text": [
            "[5, 4, 3, 2, 1]\n",
            "olleh\n"
          ]
        }
      ]
    }
  ]
}