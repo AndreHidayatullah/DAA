{
  "nbformat": 4,
  "nbformat_minor": 0,
  "metadata": {
    "colab": {
      "provenance": [],
      "authorship_tag": "ABX9TyMzzyExNDdgKe/ppGRo0koG",
      "include_colab_link": true
    },
    "kernelspec": {
      "name": "python3",
      "display_name": "Python 3"
    },
    "language_info": {
      "name": "python"
    }
  },
  "cells": [
    {
      "cell_type": "markdown",
      "metadata": {
        "id": "view-in-github",
        "colab_type": "text"
      },
      "source": [
        "<a href=\"https://colab.research.google.com/github/AndreHidayatullah/DAA/blob/main/DAA_Pertemuan_4.ipynb\" target=\"_parent\"><img src=\"https://colab.research.google.com/assets/colab-badge.svg\" alt=\"Open In Colab\"/></a>"
      ]
    },
    {
      "cell_type": "code",
      "execution_count": null,
      "metadata": {
        "id": "Ybkv0H1Hnlig"
      },
      "outputs": [],
      "source": [
        "var1 = 1\n",
        "var2 = 2\n",
        "var1, var2 = var2, var1"
      ]
    },
    {
      "cell_type": "code",
      "source": [
        "print(var1, var2)"
      ],
      "metadata": {
        "colab": {
          "base_uri": "https://localhost:8080/"
        },
        "id": "g5xCLt1aoY5I",
        "outputId": "fc39b402-2c6f-4a88-925c-b8a9c1885804"
      },
      "execution_count": null,
      "outputs": [
        {
          "output_type": "stream",
          "name": "stdout",
          "text": [
            "2 1\n"
          ]
        }
      ]
    },
    {
      "cell_type": "code",
      "source": [
        "var1 = 'kopi'\n",
        "var2 = 'teh'\n",
        "var3 = 'susu'\n",
        "var1, var2, var3 = var3, var2, var1"
      ],
      "metadata": {
        "id": "Af3Z1P6kot05"
      },
      "execution_count": null,
      "outputs": []
    },
    {
      "cell_type": "code",
      "source": [
        "print(var1, var2, var3)"
      ],
      "metadata": {
        "colab": {
          "base_uri": "https://localhost:8080/"
        },
        "id": "SO2g08ZJpMTE",
        "outputId": "feb1f023-f841-42aa-80c0-5dd85d59e913"
      },
      "execution_count": null,
      "outputs": [
        {
          "output_type": "stream",
          "name": "stdout",
          "text": [
            "susu teh kopi\n"
          ]
        }
      ]
    },
    {
      "cell_type": "code",
      "source": [
        "list = [25,21,22,24,23,27,26]"
      ],
      "metadata": {
        "id": "NmuxkKlf3Foa"
      },
      "execution_count": 1,
      "outputs": []
    },
    {
      "cell_type": "code",
      "source": [
        "lastElementIndex = len(list)-1\n",
        "print(0,list)\n",
        "for idx in range(lastElementIndex):\n",
        "    if list[idx]>list[idx+1]:\n",
        "        list[idx],list[idx+1]=list[idx+1],list[idx]\n",
        "    print(idx+1,list)"
      ],
      "metadata": {
        "id": "UkLW2dEo1VCv",
        "colab": {
          "base_uri": "https://localhost:8080/"
        },
        "outputId": "2b8fa8b5-b2ba-40a9-f72b-6bc070503461"
      },
      "execution_count": 2,
      "outputs": [
        {
          "output_type": "stream",
          "name": "stdout",
          "text": [
            "0 [25, 21, 22, 24, 23, 27, 26]\n",
            "1 [21, 25, 22, 24, 23, 27, 26]\n",
            "2 [21, 22, 25, 24, 23, 27, 26]\n",
            "3 [21, 22, 24, 25, 23, 27, 26]\n",
            "4 [21, 22, 24, 23, 25, 27, 26]\n",
            "5 [21, 22, 24, 23, 25, 27, 26]\n",
            "6 [21, 22, 24, 23, 25, 26, 27]\n"
          ]
        }
      ]
    },
    {
      "cell_type": "code",
      "source": [
        "list"
      ],
      "metadata": {
        "colab": {
          "base_uri": "https://localhost:8080/"
        },
        "id": "Xd3Lkhm75A-F",
        "outputId": "87925b46-c102-4c24-8b64-f331ed1f3962"
      },
      "execution_count": 9,
      "outputs": [
        {
          "output_type": "execute_result",
          "data": {
            "text/plain": [
              "[21, 22, 24, 23, 25, 26, 27]"
            ]
          },
          "metadata": {},
          "execution_count": 9
        }
      ]
    },
    {
      "cell_type": "code",
      "source": [
        "def BubbleSort(list):\n",
        "  lastElementIndex = len(list)-1\n",
        "  for passNo in range(lastElementIndex,0,-1):\n",
        "    for idx in range(passNo):\n",
        "      if list[idx]>list[idx+1]:\n",
        "        list[idx],list[idx+1]=list[idx+1],list[idx]\n",
        "  return list"
      ],
      "metadata": {
        "id": "HOOmn2V35FzQ"
      },
      "execution_count": 8,
      "outputs": []
    },
    {
      "cell_type": "code",
      "source": [
        "list = [25,21,22,24,23,27,26]"
      ],
      "metadata": {
        "id": "3AqBS9cX5TNe"
      },
      "execution_count": null,
      "outputs": []
    },
    {
      "cell_type": "code",
      "source": [
        "BubbleSort(list)"
      ],
      "metadata": {
        "colab": {
          "base_uri": "https://localhost:8080/"
        },
        "id": "YMIAV-U15m5D",
        "outputId": "f0ebc012-134e-4164-90f2-d9f0a6d4fd43"
      },
      "execution_count": 10,
      "outputs": [
        {
          "output_type": "execute_result",
          "data": {
            "text/plain": [
              "[21, 22, 23, 24, 25, 26, 27]"
            ]
          },
          "metadata": {},
          "execution_count": 10
        }
      ]
    },
    {
      "cell_type": "code",
      "source": [
        "list"
      ],
      "metadata": {
        "colab": {
          "base_uri": "https://localhost:8080/"
        },
        "id": "iuK6bp3p5r7U",
        "outputId": "95fe9c31-6ce3-4a47-8917-70b2f5388087"
      },
      "execution_count": 11,
      "outputs": [
        {
          "output_type": "execute_result",
          "data": {
            "text/plain": [
              "[21, 22, 23, 24, 25, 26, 27]"
            ]
          },
          "metadata": {},
          "execution_count": 11
        }
      ]
    },
    {
      "cell_type": "code",
      "source": [
        "def BubbleSort(list):\n",
        "    n = len(list)\n",
        "    for i in range(n):\n",
        "        for j in range(0, n-i-1):\n",
        "            if list[j] > list[j+1]:\n",
        "                list[j], list[j+1] = list[j+1], list[j]\n",
        "    return list"
      ],
      "metadata": {
        "id": "uXhhYF4E5yY3"
      },
      "execution_count": 16,
      "outputs": []
    },
    {
      "cell_type": "code",
      "source": [
        "data = [100, 20, 60, 90, 40, 30, 10]\n",
        "print(\"Data sebelum sorting:\", data)\n",
        "print(\"Data setelah sorting:\", BubbleSort(data))"
      ],
      "metadata": {
        "colab": {
          "base_uri": "https://localhost:8080/"
        },
        "id": "o4JLmft-wrji",
        "outputId": "36d58205-db8e-4cdf-b4d3-54643e310643"
      },
      "execution_count": 17,
      "outputs": [
        {
          "output_type": "stream",
          "name": "stdout",
          "text": [
            "Data sebelum sorting: [100, 20, 60, 90, 40, 30, 10]\n",
            "Data setelah sorting: [10, 20, 30, 40, 60, 90, 100]\n"
          ]
        }
      ]
    },
    {
      "cell_type": "code",
      "source": [
        "def InsertionSort(list):\n",
        "  for i in range(1, len(list)):\n",
        "    j = i-1\n",
        "    next = list[i]\n",
        "\n",
        "    while (list[j]>next) and (j>=0):\n",
        "      list[j+1] = list[j]\n",
        "      j=j-1\n",
        "    list[j+1] = next\n",
        "  return list"
      ],
      "metadata": {
        "id": "Al0t3aPj6CV1"
      },
      "execution_count": 12,
      "outputs": []
    },
    {
      "cell_type": "code",
      "source": [
        "list = [35,31,32,34,33,37,36]"
      ],
      "metadata": {
        "id": "lQJof7wJ6t3D"
      },
      "execution_count": 14,
      "outputs": []
    },
    {
      "cell_type": "code",
      "source": [
        "list"
      ],
      "metadata": {
        "colab": {
          "base_uri": "https://localhost:8080/"
        },
        "id": "VOgXybFc64X6",
        "outputId": "5ce4470a-b8ab-4dd3-dbe5-e6f28bd7c3ca"
      },
      "execution_count": 15,
      "outputs": [
        {
          "output_type": "execute_result",
          "data": {
            "text/plain": [
              "[35, 31, 32, 34, 33, 37, 36]"
            ]
          },
          "metadata": {},
          "execution_count": 15
        }
      ]
    },
    {
      "cell_type": "code",
      "source": [
        "InsertionSort(list)"
      ],
      "metadata": {
        "colab": {
          "base_uri": "https://localhost:8080/"
        },
        "id": "WVUKFHrO66QG",
        "outputId": "7c262462-1f42-4ac2-cf1c-8d0bb2ff0954"
      },
      "execution_count": 16,
      "outputs": [
        {
          "output_type": "execute_result",
          "data": {
            "text/plain": [
              "[31, 32, 33, 34, 35, 36, 37]"
            ]
          },
          "metadata": {},
          "execution_count": 16
        }
      ]
    },
    {
      "cell_type": "code",
      "source": [
        "list"
      ],
      "metadata": {
        "colab": {
          "base_uri": "https://localhost:8080/"
        },
        "id": "LF2D3yFm6-dd",
        "outputId": "c1d170ef-56a9-4e15-c352-5d7866cd3e15"
      },
      "execution_count": 17,
      "outputs": [
        {
          "output_type": "execute_result",
          "data": {
            "text/plain": [
              "[31, 32, 33, 34, 35, 36, 37]"
            ]
          },
          "metadata": {},
          "execution_count": 17
        }
      ]
    },
    {
      "cell_type": "code",
      "source": [
        "list = [25,26,22,24,27,23,21]"
      ],
      "metadata": {
        "id": "vkvQPKwo7CV7"
      },
      "execution_count": 18,
      "outputs": []
    },
    {
      "cell_type": "code",
      "source": [
        "InsertionSort(list)\n",
        "print(list)"
      ],
      "metadata": {
        "colab": {
          "base_uri": "https://localhost:8080/"
        },
        "id": "08qHk9ff7K8E",
        "outputId": "69fe2fdc-4d4c-4618-859f-0f9bade3599f"
      },
      "execution_count": 19,
      "outputs": [
        {
          "output_type": "stream",
          "name": "stdout",
          "text": [
            "[21, 22, 23, 24, 25, 26, 27]\n"
          ]
        }
      ]
    },
    {
      "cell_type": "code",
      "source": [
        "def InsertionSort(list):\n",
        "    for i in range(1, len(list)):\n",
        "        key = list[i]\n",
        "        j = i - 1\n",
        "        while j >= 0 and key < list[j]:\n",
        "            list[j + 1] = list[j]\n",
        "            j -= 1\n",
        "        list[j + 1] = key\n",
        "    return list"
      ],
      "metadata": {
        "id": "iGV2Ip9j7wGh"
      },
      "execution_count": 14,
      "outputs": []
    },
    {
      "cell_type": "code",
      "source": [
        "data = [89, 12, 57, 16, 25, 11, 75]\n",
        "print(\"Data sebelum sorting:\", data)\n",
        "print(\"Data setelah sorting:\", InsertionSort(data))"
      ],
      "metadata": {
        "colab": {
          "base_uri": "https://localhost:8080/"
        },
        "id": "D2hmHQ8nv8z1",
        "outputId": "152e590a-664d-4dd5-c4f6-c70b724c98fa"
      },
      "execution_count": 15,
      "outputs": [
        {
          "output_type": "stream",
          "name": "stdout",
          "text": [
            "Data sebelum sorting: [89, 12, 57, 16, 25, 11, 75]\n",
            "Data setelah sorting: [11, 12, 16, 25, 57, 75, 89]\n"
          ]
        }
      ]
    },
    {
      "cell_type": "code",
      "source": [
        "def SelectionSort(list):\n",
        "  for fill_slot in range(len(list) - 1, 0, -1):\n",
        "    max_index = 0\n",
        "    for location in range(1, fill_slot + 1):\n",
        "      if list[location] > list[max_index]:\n",
        "        max_index = location\n",
        "      list[fill_slot],list[max_index] = list[max_index],list[fill_slot]\n",
        "    return list"
      ],
      "metadata": {
        "id": "rkCon1QL7xE5"
      },
      "execution_count": 39,
      "outputs": []
    },
    {
      "cell_type": "code",
      "source": [
        "list = [70,15,25,19,34,44]\n",
        "SelectionSort(list)"
      ],
      "metadata": {
        "colab": {
          "base_uri": "https://localhost:8080/"
        },
        "id": "elZWR31X8VQ9",
        "outputId": "623d8ed2-6afe-4990-e0cf-b7c146db9b30"
      },
      "execution_count": 34,
      "outputs": [
        {
          "output_type": "execute_result",
          "data": {
            "text/plain": [
              "[44, 15, 25, 19, 34, 70]"
            ]
          },
          "metadata": {},
          "execution_count": 34
        }
      ]
    },
    {
      "cell_type": "code",
      "source": [
        "list"
      ],
      "metadata": {
        "colab": {
          "base_uri": "https://localhost:8080/"
        },
        "id": "C2elah0X8p5u",
        "outputId": "d0f393ad-7901-4356-f9ac-56561ecfbec9"
      },
      "execution_count": 37,
      "outputs": [
        {
          "output_type": "execute_result",
          "data": {
            "text/plain": [
              "[44, 15, 25, 19, 34, 70]"
            ]
          },
          "metadata": {},
          "execution_count": 37
        }
      ]
    },
    {
      "cell_type": "code",
      "source": [
        "list = [70,15,25,19,34,44]\n",
        "SelectionSort(list)\n",
        "print(list)"
      ],
      "metadata": {
        "colab": {
          "base_uri": "https://localhost:8080/"
        },
        "id": "1fREH_828sV_",
        "outputId": "8d1eeb0d-de2f-4b3a-912f-a2abd4c7a4b1"
      },
      "execution_count": 38,
      "outputs": [
        {
          "output_type": "stream",
          "name": "stdout",
          "text": [
            "[44, 15, 25, 19, 34, 70]\n"
          ]
        }
      ]
    },
    {
      "cell_type": "code",
      "source": [
        "def SelectionSort(list):\n",
        "    for i in range(len(list)):\n",
        "        min_index = i\n",
        "        for j in range(i+1, len(list)):\n",
        "            if list[j] < list[min_index]:\n",
        "                min_index = j\n",
        "        # tukar posisi\n",
        "        list[i], list[min_index] = list[min_index], list[i]\n",
        "    return list"
      ],
      "metadata": {
        "id": "X9YkVdw588ZB"
      },
      "execution_count": 12,
      "outputs": []
    },
    {
      "cell_type": "code",
      "source": [
        "data = [89, 12, 57, 16, 25]\n",
        "print(\"Data sebelum sorting:\", data)\n",
        "print(\"Data setelah sorting:\", SelectionSort(data))"
      ],
      "metadata": {
        "colab": {
          "base_uri": "https://localhost:8080/"
        },
        "id": "u2f68usjvmUs",
        "outputId": "b1660b4e-1c27-4ac0-a076-b7ce9645d32a"
      },
      "execution_count": 13,
      "outputs": [
        {
          "output_type": "stream",
          "name": "stdout",
          "text": [
            "Data sebelum sorting: [89, 12, 57, 16, 25]\n",
            "Data setelah sorting: [12, 16, 25, 57, 89]\n"
          ]
        }
      ]
    },
    {
      "cell_type": "code",
      "source": [
        "def LinearSearch(list,item):\n",
        "  index = 0\n",
        "  found = False\n",
        "\n",
        "  while index < len(list) and found is False:\n",
        "    if list[index] == item:\n",
        "      found = True\n",
        "    else:\n",
        "      index = index + 1\n",
        "    return found"
      ],
      "metadata": {
        "id": "KID6OqF498NV"
      },
      "execution_count": 41,
      "outputs": []
    },
    {
      "cell_type": "code",
      "source": [
        "list = [12,33,11,99,22,55,90]\n",
        "print(LinearSearch(list, 12))\n",
        "print(LinearSearch(list, 91))"
      ],
      "metadata": {
        "colab": {
          "base_uri": "https://localhost:8080/"
        },
        "id": "8--lSqRA-UCh",
        "outputId": "6fd0f1dc-ef73-41f6-a00b-2f2c344c6e24"
      },
      "execution_count": 42,
      "outputs": [
        {
          "output_type": "stream",
          "name": "stdout",
          "text": [
            "True\n",
            "False\n"
          ]
        }
      ]
    },
    {
      "cell_type": "code",
      "source": [
        "def LinearSearch(list, x):\n",
        "    for i in range(len(list)):\n",
        "        if list[i] == x:\n",
        "            return True\n",
        "    return False"
      ],
      "metadata": {
        "id": "m2kRY0cd-86s"
      },
      "execution_count": 10,
      "outputs": []
    },
    {
      "cell_type": "code",
      "source": [
        "huruf = ['y','u','i','w','o','a','q','u','j','p']\n",
        "print(LinearSearch(huruf, 'a'))"
      ],
      "metadata": {
        "colab": {
          "base_uri": "https://localhost:8080/"
        },
        "id": "ItjRMTSOvQTC",
        "outputId": "1d427aaa-0e47-4b3f-9241-9e1fc68698e6"
      },
      "execution_count": 11,
      "outputs": [
        {
          "output_type": "stream",
          "name": "stdout",
          "text": [
            "True\n"
          ]
        }
      ]
    },
    {
      "cell_type": "code",
      "source": [
        "def BinarySearch(list,item):\n",
        "  first = 0\n",
        "  last = len(list)-1\n",
        "  found = False\n",
        "\n",
        "  while first <= last and not found:\n",
        "    midpoint = (first + last)//2\n",
        "    if list[midpoint] == item:\n",
        "      found = True\n",
        "    else:\n",
        "      if item < list[midpoint]:\n",
        "        last = midpoint-1\n",
        "      else:\n",
        "        first = midpoint+1\n",
        "  return found"
      ],
      "metadata": {
        "id": "NNraErY1_A_A"
      },
      "execution_count": 44,
      "outputs": []
    },
    {
      "cell_type": "code",
      "source": [
        "list = [12,33,11,99,22,55,90]\n",
        "sorted_list = BubbleSort(list)\n",
        "print(BinarySearch(list,12))\n",
        "print(BinarySearch(list,91))"
      ],
      "metadata": {
        "colab": {
          "base_uri": "https://localhost:8080/"
        },
        "id": "h89w9i4uAKuy",
        "outputId": "e7f846ca-4fa3-41f7-a8c0-f4d8b68db89c"
      },
      "execution_count": 45,
      "outputs": [
        {
          "output_type": "stream",
          "name": "stdout",
          "text": [
            "True\n",
            "False\n"
          ]
        }
      ]
    },
    {
      "cell_type": "code",
      "source": [
        "def BinarySearch(list, x):\n",
        "    low = 0\n",
        "    high = len(list) - 1\n",
        "    found = False\n",
        "\n",
        "    while low <= high and not found:\n",
        "        mid = (low + high) // 2\n",
        "\n",
        "        if list[mid] == x:\n",
        "            found = True\n",
        "            return found\n",
        "\n",
        "        if x < list[mid]:\n",
        "            high = mid - 1\n",
        "        else:\n",
        "            low = mid + 1\n",
        "\n",
        "    return found"
      ],
      "metadata": {
        "id": "uYOto_yYAkiN"
      },
      "execution_count": 8,
      "outputs": []
    },
    {
      "cell_type": "code",
      "source": [
        "huruf = ['y','u','i','w','o','a','q','u','j','p']\n",
        "sorted_huruf = sorted(huruf)  # urutkan dulu\n",
        "print(\"Data urut:\", sorted_huruf)\n",
        "print(BinarySearch(sorted_huruf, 'a'))\n"
      ],
      "metadata": {
        "colab": {
          "base_uri": "https://localhost:8080/"
        },
        "id": "Fh6OXpWKu0Fi",
        "outputId": "eb4c2b56-a79d-436a-e620-36820ef4070f"
      },
      "execution_count": 9,
      "outputs": [
        {
          "output_type": "stream",
          "name": "stdout",
          "text": [
            "Data urut: ['a', 'i', 'j', 'o', 'p', 'q', 'u', 'u', 'w', 'y']\n",
            "True\n"
          ]
        }
      ]
    },
    {
      "cell_type": "code",
      "source": [
        "def InPolsearch(list,x):\n",
        "  idx0 = 0\n",
        "  idxn = (len(list)-1)\n",
        "  found = False\n",
        "  while idx0 <= idxn and x>= list[idx0] and x <= list[idxn]:\n",
        "    mid = idx0 + int(((float(idxn-idx0)/(list[idxn]-list[idx0]))*(x-list[idx0])))\n",
        "    if list[mid] == x:\n",
        "      found = True\n",
        "      return found\n",
        "\n",
        "    if list[mid] < x:\n",
        "      idx0 = mid +1\n",
        "  return found"
      ],
      "metadata": {
        "id": "8LMPoNhYAlr8"
      },
      "execution_count": 46,
      "outputs": []
    },
    {
      "cell_type": "code",
      "source": [
        "list = [12,33,11,99,22,55,90]\n",
        "sorted_list = BubbleSort(list)\n",
        "print(InPolsearch(list, 12))\n",
        "print(InPolsearch(list, 91))"
      ],
      "metadata": {
        "colab": {
          "base_uri": "https://localhost:8080/"
        },
        "id": "zz0DefRXB3w2",
        "outputId": "c94e7983-b1f2-4989-d039-766e34266f19"
      },
      "execution_count": 47,
      "outputs": [
        {
          "output_type": "stream",
          "name": "stdout",
          "text": [
            "True\n",
            "False\n"
          ]
        }
      ]
    },
    {
      "cell_type": "code",
      "source": [
        "def IntPolsearch(list, x):\n",
        "    idx0 = 0\n",
        "    idxn = len(list) - 1\n",
        "    found = False\n",
        "\n",
        "    while idx0 <= idxn and x >= list[idx0] and x <= list[idxn]:\n",
        "        mid = idx0 + int(((idxn - idx0) / (ord(list[idxn]) - ord(list[idx0]))) * (ord(x) - ord(list[idx0])))\n",
        "\n",
        "        if list[mid] == x:\n",
        "            found = True\n",
        "            return found\n",
        "\n",
        "        if list[mid] < x:\n",
        "            idx0 = mid + 1\n",
        "        else:\n",
        "            idxn = mid - 1\n",
        "\n",
        "    return found"
      ],
      "metadata": {
        "id": "McGTwkJ0COlQ"
      },
      "execution_count": 5,
      "outputs": []
    },
    {
      "cell_type": "code",
      "source": [
        "huruf = ['y','u','i','w','o','a','q','u','j','p']\n",
        "sorted_huruf = sorted(huruf)\n",
        "print(\"Data urut:\", sorted_huruf)\n",
        "\n",
        "print(IntPolsearch(sorted_huruf, 'u'))"
      ],
      "metadata": {
        "colab": {
          "base_uri": "https://localhost:8080/"
        },
        "id": "l9ti_dLajg2q",
        "outputId": "0c57874a-fd43-493b-c9c2-d6eaf05bf8cc"
      },
      "execution_count": 6,
      "outputs": [
        {
          "output_type": "stream",
          "name": "stdout",
          "text": [
            "Data urut: ['a', 'i', 'j', 'o', 'p', 'q', 'u', 'u', 'w', 'y']\n",
            "True\n"
          ]
        }
      ]
    }
  ]
}